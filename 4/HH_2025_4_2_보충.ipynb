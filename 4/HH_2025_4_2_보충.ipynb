{
  "nbformat": 4,
  "nbformat_minor": 0,
  "metadata": {
    "colab": {
      "provenance": []
    },
    "kernelspec": {
      "name": "python3",
      "display_name": "Python 3"
    },
    "language_info": {
      "name": "python"
    }
  },
  "cells": [
    {
      "cell_type": "markdown",
      "source": [
        "# 거래량과 종가"
      ],
      "metadata": {
        "id": "DnbkIhOrxi87"
      }
    },
    {
      "cell_type": "code",
      "source": [
        "import yfinance as yf\n",
        "\n",
        "# 삼성전자 (예: 005930.KS), 기간: 최근 6개월\n",
        "ticker = '005930.KS'  # '.KS'는 한국거래소(KRX) 종목\n",
        "stock = yf.Ticker(ticker)\n",
        "\n",
        "# 주가 데이터 다운로드 (시작일~종료일 지정)\n",
        "df = stock.history(start=\"2024-01-01\", end=\"2024-06-01\")\n",
        "\n",
        "# 결과 확인\n",
        "print(df.head())\n",
        "df = stock.history(period=\"1mo\")"
      ],
      "metadata": {
        "id": "4ivimHqqtQEn",
        "outputId": "99fa9992-4812-4939-a721-3180117e335e",
        "colab": {
          "base_uri": "https://localhost:8080/"
        }
      },
      "execution_count": 33,
      "outputs": [
        {
          "output_type": "stream",
          "name": "stdout",
          "text": [
            "                                   Open          High           Low  \\\n",
            "Date                                                                  \n",
            "2024-01-02 00:00:00+09:00  76094.115323  77651.028168  76094.115323   \n",
            "2024-01-03 00:00:00+09:00  76386.043425  76677.964610  74926.437500   \n",
            "2024-01-04 00:00:00+09:00  74050.667857  75218.352501  74050.667857   \n",
            "2024-01-05 00:00:00+09:00  74634.510179  75023.738393  74342.589018   \n",
            "2024-01-08 00:00:00+09:00  74926.441585  75412.976920  74342.599183   \n",
            "\n",
            "                                  Close    Volume  Dividends  Stock Splits  \n",
            "Date                                                                        \n",
            "2024-01-02 00:00:00+09:00  77456.414062  17142847        0.0           0.0  \n",
            "2024-01-03 00:00:00+09:00  74926.437500  21753644        0.0           0.0  \n",
            "2024-01-04 00:00:00+09:00  74537.203125  15324439        0.0           0.0  \n",
            "2024-01-05 00:00:00+09:00  74537.203125  11304316        0.0           0.0  \n",
            "2024-01-08 00:00:00+09:00  74439.906250  11088724        0.0           0.0  \n"
          ]
        }
      ]
    },
    {
      "cell_type": "code",
      "source": [
        "# 어제 거래량 컬럼 생성 (lag)\n",
        "df['Volume_lag1'] = df['Volume'].shift(1)\n",
        "\n",
        "# NaN 제거 (첫 행은 어제 데이터 없음)\n",
        "df = df.dropna()\n",
        "\n",
        "# 결과 확인\n",
        "print(df[['Close', 'Volume', 'Volume_lag1']].head())"
      ],
      "metadata": {
        "id": "vjyvNd_uyCgA",
        "outputId": "61b66646-5812-4e41-d605-31c2ad1ac7de",
        "colab": {
          "base_uri": "https://localhost:8080/"
        }
      },
      "execution_count": 34,
      "outputs": [
        {
          "output_type": "stream",
          "name": "stdout",
          "text": [
            "                             Close    Volume  Volume_lag1\n",
            "Date                                                     \n",
            "2025-05-12 00:00:00+09:00  57600.0  15414702    7814322.0\n",
            "2025-05-13 00:00:00+09:00  56900.0  16842801   15414702.0\n",
            "2025-05-14 00:00:00+09:00  57400.0  12468089   16842801.0\n",
            "2025-05-15 00:00:00+09:00  57300.0  13139736   12468089.0\n",
            "2025-05-16 00:00:00+09:00  56800.0  10385352   13139736.0\n"
          ]
        }
      ]
    },
    {
      "cell_type": "markdown",
      "source": [
        "# 범주형 변수와 교호작용"
      ],
      "metadata": {
        "id": "nB1jnNsAxmZR"
      }
    },
    {
      "cell_type": "code",
      "source": [
        "import pandas as pd\n",
        "\n",
        "# 데이터 생성\n",
        "data = pd.DataFrame({\n",
        "    'EngineSize': [1.6, 2.0, 3.0, 1.4, 2.2, 2.5, 3.5, 1.2],\n",
        "    'FuelType': ['Gasoline', 'Diesel', 'Gasoline', 'Diesel', 'Gasoline', 'Diesel', 'Gasoline', 'Diesel'],\n",
        "    'Price': [18000, 22000, 27000, 16000, 24000, 25000, 32000, 15000]\n",
        "})"
      ],
      "metadata": {
        "id": "aUAUwQSFtQG-"
      },
      "execution_count": 35,
      "outputs": []
    },
    {
      "cell_type": "code",
      "source": [
        "# 범주형 변수 'FuelType'을 더미변수로 변환\n",
        "data_encoded = pd.get_dummies(data, columns=['FuelType'], drop_first=True)\n",
        "data_encoded['Interaction'] = data_encoded['EngineSize'] * data_encoded['FuelType_Gasoline']\n",
        "print(data_encoded)"
      ],
      "metadata": {
        "id": "DPTE6CvXtQJK",
        "outputId": "571f5944-e028-43f0-cea3-1cad7497fd10",
        "colab": {
          "base_uri": "https://localhost:8080/"
        }
      },
      "execution_count": 36,
      "outputs": [
        {
          "output_type": "stream",
          "name": "stdout",
          "text": [
            "   EngineSize  Price  FuelType_Gasoline  Interaction\n",
            "0         1.6  18000               True          1.6\n",
            "1         2.0  22000              False          0.0\n",
            "2         3.0  27000               True          3.0\n",
            "3         1.4  16000              False          0.0\n",
            "4         2.2  24000               True          2.2\n",
            "5         2.5  25000              False          0.0\n",
            "6         3.5  32000               True          3.5\n",
            "7         1.2  15000              False          0.0\n"
          ]
        }
      ]
    },
    {
      "cell_type": "code",
      "source": [
        "# 회귀 모델 적합\n",
        "from statsmodels.formula.api import ols\n",
        "model = ols(formula='Price~EngineSize+FuelType_Gasoline+Interaction', data=data_encoded).fit()\n",
        "\n",
        "# 결과 출력\n",
        "print(model.summary())"
      ],
      "metadata": {
        "id": "EAM4Ad2dtQLf",
        "outputId": "4731ddbd-e56d-4222-cbf4-3c78cd101015",
        "colab": {
          "base_uri": "https://localhost:8080/"
        }
      },
      "execution_count": 37,
      "outputs": [
        {
          "output_type": "stream",
          "name": "stdout",
          "text": [
            "                            OLS Regression Results                            \n",
            "==============================================================================\n",
            "Dep. Variable:                  Price   R-squared:                       0.981\n",
            "Model:                            OLS   Adj. R-squared:                  0.967\n",
            "Method:                 Least Squares   F-statistic:                     70.43\n",
            "Date:                Mon, 09 Jun 2025   Prob (F-statistic):           0.000643\n",
            "Time:                        03:42:37   Log-Likelihood:                -64.240\n",
            "No. Observations:                   8   AIC:                             136.5\n",
            "Df Residuals:                       4   BIC:                             136.8\n",
            "Df Model:                           3                                         \n",
            "Covariance Type:            nonrobust                                         \n",
            "=============================================================================================\n",
            "                                coef    std err          t      P>|t|      [0.025      0.975]\n",
            "---------------------------------------------------------------------------------------------\n",
            "Intercept                  5181.3842   1897.178      2.731      0.052     -86.026    1.04e+04\n",
            "FuelType_Gasoline[T.True]  2488.4160   2705.338      0.920      0.410   -5022.806    9999.638\n",
            "EngineSize                 8066.8258   1027.003      7.855      0.001    5215.408    1.09e+04\n",
            "Interaction               -1239.5637   1254.610     -0.988      0.379   -4722.920    2243.793\n",
            "==============================================================================\n",
            "Omnibus:                        0.188   Durbin-Watson:                   2.739\n",
            "Prob(Omnibus):                  0.910   Jarque-Bera (JB):                0.337\n",
            "Skew:                           0.234   Prob(JB):                        0.845\n",
            "Kurtosis:                       2.110   Cond. No.                         28.1\n",
            "==============================================================================\n",
            "\n",
            "Notes:\n",
            "[1] Standard Errors assume that the covariance matrix of the errors is correctly specified.\n"
          ]
        },
        {
          "output_type": "stream",
          "name": "stderr",
          "text": [
            "/usr/local/lib/python3.11/dist-packages/scipy/stats/_axis_nan_policy.py:430: UserWarning: `kurtosistest` p-value may be inaccurate with fewer than 20 observations; only n=8 observations were given.\n",
            "  return hypotest_fun_in(*args, **kwds)\n"
          ]
        }
      ]
    },
    {
      "cell_type": "code",
      "source": [
        "from sklearn.linear_model import LinearRegression\n",
        "# 독립변수(X)와 종속변수(y) 설정\n",
        "X = data_encoded[['EngineSize', 'FuelType_Gasoline', 'Interaction']]\n",
        "y = data_encoded['Price']\n",
        "\n",
        "# 모델 학습\n",
        "reg = LinearRegression()\n",
        "reg.fit(X, y)\n",
        "\n",
        "# 계수 출력\n",
        "print(\"절편:\", reg.intercept_)\n",
        "print(\"회귀계수:\", reg.coef_)"
      ],
      "metadata": {
        "id": "0KR0tpYXtQO4",
        "outputId": "8dd9f7c7-9f33-4274-bfb7-63140982e8c7",
        "colab": {
          "base_uri": "https://localhost:8080/"
        }
      },
      "execution_count": 38,
      "outputs": [
        {
          "output_type": "stream",
          "name": "stdout",
          "text": [
            "절편: 5181.384248210023\n",
            "회귀계수: [ 8066.82577566  2488.41598681 -1239.563731  ]\n"
          ]
        }
      ]
    }
  ]
}