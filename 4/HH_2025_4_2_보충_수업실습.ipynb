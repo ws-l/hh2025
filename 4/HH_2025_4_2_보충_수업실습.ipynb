{
  "nbformat": 4,
  "nbformat_minor": 0,
  "metadata": {
    "colab": {
      "provenance": []
    },
    "kernelspec": {
      "name": "python3",
      "display_name": "Python 3"
    },
    "language_info": {
      "name": "python"
    }
  },
  "cells": [
    {
      "cell_type": "markdown",
      "source": [
        "# 거래량과 종가"
      ],
      "metadata": {
        "id": "DnbkIhOrxi87"
      }
    },
    {
      "cell_type": "code",
      "source": [
        "import yfinance as yf\n",
        "\n",
        "# 삼성전자 (예: 005930.KS), 기간: 최근 6개월\n",
        "ticker = '005930.KS'  # '.KS'는 한국거래소(KRX) 종목\n",
        "stock = yf.Ticker(ticker)\n",
        "\n",
        "# 주가 데이터 다운로드 (시작일~종료일 지정)\n",
        "df = stock.history(start=\"2025-01-01\", end=\"2025-06-01\")   #train\n",
        "df2 = stock.history(start=\"2025-06-01\", end=\"2025-06-08\")   #test"
      ],
      "metadata": {
        "id": "4ivimHqqtQEn"
      },
      "execution_count": 34,
      "outputs": []
    },
    {
      "cell_type": "code",
      "source": [
        "df[\"Volume_lag1\"]=df[\"Volume\"].shift(1)\n",
        "df[\"Volume_lag2\"]=df[\"Volume\"].shift(2)\n",
        "df=df.dropna()\n",
        "df2[\"Volume_lag1\"]=df2[\"Volume\"].shift(1)\n",
        "df2[\"Volume_lag2\"]=df2[\"Volume\"].shift(2)\n",
        "df2=df2.dropna()"
      ],
      "metadata": {
        "id": "6HWsVgTFY5IV"
      },
      "execution_count": 35,
      "outputs": []
    },
    {
      "cell_type": "code",
      "source": [
        "#거래량->종가를 regression, 2025, 다른 기법\n",
        "from sklearn.linear_model import LinearRegression\n",
        "from sklearn.ensemble import GradientBoostingRegressor, RandomForestRegressor\n",
        "from sklearn.metrics import mean_squared_error\n",
        "model1 = GradientBoostingRegressor(n_estimators=50, max_depth=None,\n",
        "                                   learning_rate=0.01).fit(\n",
        "    df[[\"Volume_lag1\",\"Volume_lag2\"]], df.Close)\n",
        "pred = model1.predict( df2[[\"Volume_lag1\",\"Volume_lag2\"]])\n",
        "mean_squared_error( df2.Close, pred)**0.5"
      ],
      "metadata": {
        "id": "W6M5hVjNTuja",
        "outputId": "2625743f-ef33-448f-8491-35a0a1d04002",
        "colab": {
          "base_uri": "https://localhost:8080/"
        }
      },
      "execution_count": 37,
      "outputs": [
        {
          "output_type": "execute_result",
          "data": {
            "text/plain": [
              "3900.1106890811425"
            ]
          },
          "metadata": {},
          "execution_count": 37
        }
      ]
    },
    {
      "cell_type": "code",
      "source": [
        "#Volume_lag1, Volume shift1\n",
        "#Volume_lag2, shft2\n",
        "#Na -> dropna\n",
        "#X: Volume_lag1, Volume_lag2\n",
        "#df[\"Volume\"].shift(3)"
      ],
      "metadata": {
        "id": "H-OPI8CSXwTz",
        "outputId": "1b137eda-5d7b-440c-864c-664c24455ead",
        "colab": {
          "base_uri": "https://localhost:8080/",
          "height": 490
        }
      },
      "execution_count": 30,
      "outputs": [
        {
          "output_type": "execute_result",
          "data": {
            "text/plain": [
              "Date\n",
              "2025-01-02 00:00:00+09:00           NaN\n",
              "2025-01-03 00:00:00+09:00           NaN\n",
              "2025-01-06 00:00:00+09:00           NaN\n",
              "2025-01-07 00:00:00+09:00    16630538.0\n",
              "2025-01-08 00:00:00+09:00    19318046.0\n",
              "                                ...    \n",
              "2025-05-26 00:00:00+09:00     7794181.0\n",
              "2025-05-27 00:00:00+09:00    15254278.0\n",
              "2025-05-28 00:00:00+09:00    11247115.0\n",
              "2025-05-29 00:00:00+09:00    10901337.0\n",
              "2025-05-30 00:00:00+09:00    13439520.0\n",
              "Name: Volume, Length: 99, dtype: float64"
            ],
            "text/html": [
              "<div>\n",
              "<style scoped>\n",
              "    .dataframe tbody tr th:only-of-type {\n",
              "        vertical-align: middle;\n",
              "    }\n",
              "\n",
              "    .dataframe tbody tr th {\n",
              "        vertical-align: top;\n",
              "    }\n",
              "\n",
              "    .dataframe thead th {\n",
              "        text-align: right;\n",
              "    }\n",
              "</style>\n",
              "<table border=\"1\" class=\"dataframe\">\n",
              "  <thead>\n",
              "    <tr style=\"text-align: right;\">\n",
              "      <th></th>\n",
              "      <th>Volume</th>\n",
              "    </tr>\n",
              "    <tr>\n",
              "      <th>Date</th>\n",
              "      <th></th>\n",
              "    </tr>\n",
              "  </thead>\n",
              "  <tbody>\n",
              "    <tr>\n",
              "      <th>2025-01-02 00:00:00+09:00</th>\n",
              "      <td>NaN</td>\n",
              "    </tr>\n",
              "    <tr>\n",
              "      <th>2025-01-03 00:00:00+09:00</th>\n",
              "      <td>NaN</td>\n",
              "    </tr>\n",
              "    <tr>\n",
              "      <th>2025-01-06 00:00:00+09:00</th>\n",
              "      <td>NaN</td>\n",
              "    </tr>\n",
              "    <tr>\n",
              "      <th>2025-01-07 00:00:00+09:00</th>\n",
              "      <td>16630538.0</td>\n",
              "    </tr>\n",
              "    <tr>\n",
              "      <th>2025-01-08 00:00:00+09:00</th>\n",
              "      <td>19318046.0</td>\n",
              "    </tr>\n",
              "    <tr>\n",
              "      <th>...</th>\n",
              "      <td>...</td>\n",
              "    </tr>\n",
              "    <tr>\n",
              "      <th>2025-05-26 00:00:00+09:00</th>\n",
              "      <td>7794181.0</td>\n",
              "    </tr>\n",
              "    <tr>\n",
              "      <th>2025-05-27 00:00:00+09:00</th>\n",
              "      <td>15254278.0</td>\n",
              "    </tr>\n",
              "    <tr>\n",
              "      <th>2025-05-28 00:00:00+09:00</th>\n",
              "      <td>11247115.0</td>\n",
              "    </tr>\n",
              "    <tr>\n",
              "      <th>2025-05-29 00:00:00+09:00</th>\n",
              "      <td>10901337.0</td>\n",
              "    </tr>\n",
              "    <tr>\n",
              "      <th>2025-05-30 00:00:00+09:00</th>\n",
              "      <td>13439520.0</td>\n",
              "    </tr>\n",
              "  </tbody>\n",
              "</table>\n",
              "<p>99 rows × 1 columns</p>\n",
              "</div><br><label><b>dtype:</b> float64</label>"
            ]
          },
          "metadata": {},
          "execution_count": 30
        }
      ]
    },
    {
      "cell_type": "code",
      "source": [
        "# 어제 거래량 컬럼 생성 (lag)\n",
        "df['Volume_lag1'] = df['Volume'].shift(1)\n",
        "\n",
        "# NaN 제거 (첫 행은 어제 데이터 없음)\n",
        "df = df.dropna()\n",
        "\n",
        "# 결과 확인\n",
        "print(df[['Close', 'Volume', 'Volume_lag1']].head())"
      ],
      "metadata": {
        "id": "vjyvNd_uyCgA",
        "outputId": "61b66646-5812-4e41-d605-31c2ad1ac7de",
        "colab": {
          "base_uri": "https://localhost:8080/"
        }
      },
      "execution_count": null,
      "outputs": [
        {
          "output_type": "stream",
          "name": "stdout",
          "text": [
            "                             Close    Volume  Volume_lag1\n",
            "Date                                                     \n",
            "2025-05-12 00:00:00+09:00  57600.0  15414702    7814322.0\n",
            "2025-05-13 00:00:00+09:00  56900.0  16842801   15414702.0\n",
            "2025-05-14 00:00:00+09:00  57400.0  12468089   16842801.0\n",
            "2025-05-15 00:00:00+09:00  57300.0  13139736   12468089.0\n",
            "2025-05-16 00:00:00+09:00  56800.0  10385352   13139736.0\n"
          ]
        }
      ]
    },
    {
      "cell_type": "markdown",
      "source": [
        "# 범주형 변수와 교호작용"
      ],
      "metadata": {
        "id": "nB1jnNsAxmZR"
      }
    },
    {
      "cell_type": "code",
      "source": [
        "import pandas as pd\n",
        "\n",
        "# 데이터 생성\n",
        "data = pd.DataFrame({\n",
        "    'EngineSize': [1.6, 2.0, 3.0, 1.4, 2.2, 2.5, 3.5, 1.2],\n",
        "    'FuelType': ['Gasoline', 'Diesel', 'Gasoline', 'Diesel', 'Gasoline', 'Diesel', 'Gasoline', 'Diesel'],\n",
        "    'Price': [18000, 22000, 27000, 16000, 24000, 25000, 32000, 15000]\n",
        "})"
      ],
      "metadata": {
        "id": "aUAUwQSFtQG-"
      },
      "execution_count": 38,
      "outputs": []
    },
    {
      "cell_type": "code",
      "source": [
        "# 범주형 변수 'FuelType'을 더미변수로 변환\n",
        "data_encoded = pd.get_dummies(data, columns=['FuelType'], drop_first=True)"
      ],
      "metadata": {
        "collapsed": true,
        "id": "kbSZUJcagDKt"
      },
      "execution_count": 44,
      "outputs": []
    },
    {
      "cell_type": "code",
      "source": [
        "data_encoded['Interaction'] = data_encoded['EngineSize'] * data_encoded['FuelType_Gasoline']\n",
        "print(data_encoded)"
      ],
      "metadata": {
        "id": "DPTE6CvXtQJK",
        "outputId": "27290edf-7656-4c11-85b6-3b84d4035c7e",
        "colab": {
          "base_uri": "https://localhost:8080/"
        }
      },
      "execution_count": 48,
      "outputs": [
        {
          "output_type": "stream",
          "name": "stdout",
          "text": [
            "   EngineSize  Price  FuelType_Gasoline  Interaction\n",
            "0         1.6  18000               True          1.6\n",
            "1         2.0  22000              False          0.0\n",
            "2         3.0  27000               True          3.0\n",
            "3         1.4  16000              False          0.0\n",
            "4         2.2  24000               True          2.2\n",
            "5         2.5  25000              False          0.0\n",
            "6         3.5  32000               True          3.5\n",
            "7         1.2  15000              False          0.0\n"
          ]
        }
      ]
    },
    {
      "cell_type": "code",
      "source": [
        "# 회귀 모델 적합\n",
        "from statsmodels.formula.api import ols\n",
        "model = ols(formula='Price~EngineSize+FuelType_Gasoline+Interaction', data=data_encoded).fit()\n",
        "\n",
        "# 결과 출력\n",
        "print(model.summary())"
      ],
      "metadata": {
        "id": "EAM4Ad2dtQLf",
        "outputId": "35f7a0b4-1362-4c7a-87c9-a20413656112",
        "colab": {
          "base_uri": "https://localhost:8080/"
        }
      },
      "execution_count": 49,
      "outputs": [
        {
          "output_type": "stream",
          "name": "stdout",
          "text": [
            "                            OLS Regression Results                            \n",
            "==============================================================================\n",
            "Dep. Variable:                  Price   R-squared:                       0.981\n",
            "Model:                            OLS   Adj. R-squared:                  0.967\n",
            "Method:                 Least Squares   F-statistic:                     70.43\n",
            "Date:                Mon, 09 Jun 2025   Prob (F-statistic):           0.000643\n",
            "Time:                        07:08:15   Log-Likelihood:                -64.240\n",
            "No. Observations:                   8   AIC:                             136.5\n",
            "Df Residuals:                       4   BIC:                             136.8\n",
            "Df Model:                           3                                         \n",
            "Covariance Type:            nonrobust                                         \n",
            "=============================================================================================\n",
            "                                coef    std err          t      P>|t|      [0.025      0.975]\n",
            "---------------------------------------------------------------------------------------------\n",
            "Intercept                  5181.3842   1897.178      2.731      0.052     -86.026    1.04e+04\n",
            "FuelType_Gasoline[T.True]  2488.4160   2705.338      0.920      0.410   -5022.806    9999.638\n",
            "EngineSize                 8066.8258   1027.003      7.855      0.001    5215.408    1.09e+04\n",
            "Interaction               -1239.5637   1254.610     -0.988      0.379   -4722.920    2243.793\n",
            "==============================================================================\n",
            "Omnibus:                        0.188   Durbin-Watson:                   2.739\n",
            "Prob(Omnibus):                  0.910   Jarque-Bera (JB):                0.337\n",
            "Skew:                           0.234   Prob(JB):                        0.845\n",
            "Kurtosis:                       2.110   Cond. No.                         28.1\n",
            "==============================================================================\n",
            "\n",
            "Notes:\n",
            "[1] Standard Errors assume that the covariance matrix of the errors is correctly specified.\n"
          ]
        },
        {
          "output_type": "stream",
          "name": "stderr",
          "text": [
            "/usr/local/lib/python3.11/dist-packages/scipy/stats/_axis_nan_policy.py:430: UserWarning: `kurtosistest` p-value may be inaccurate with fewer than 20 observations; only n=8 observations were given.\n",
            "  return hypotest_fun_in(*args, **kwds)\n"
          ]
        }
      ]
    },
    {
      "cell_type": "code",
      "source": [
        "from sklearn.linear_model import LinearRegression\n",
        "# 독립변수(X)와 종속변수(y) 설정\n",
        "X = data_encoded[['EngineSize', 'FuelType_Gasoline', 'Interaction']]\n",
        "y = data_encoded['Price']\n",
        "\n",
        "# 모델 학습\n",
        "reg = LinearRegression()\n",
        "reg.fit(X, y)\n",
        "\n",
        "# 계수 출력\n",
        "print(\"절편:\", reg.intercept_)\n",
        "print(\"회귀계수:\", reg.coef_)"
      ],
      "metadata": {
        "id": "0KR0tpYXtQO4",
        "outputId": "8dd9f7c7-9f33-4274-bfb7-63140982e8c7",
        "colab": {
          "base_uri": "https://localhost:8080/"
        }
      },
      "execution_count": null,
      "outputs": [
        {
          "output_type": "stream",
          "name": "stdout",
          "text": [
            "절편: 5181.384248210023\n",
            "회귀계수: [ 8066.82577566  2488.41598681 -1239.563731  ]\n"
          ]
        }
      ]
    },
    {
      "cell_type": "markdown",
      "source": [
        "- steel plate fault 회귀"
      ],
      "metadata": {
        "id": "rOxjrdHunMmm"
      }
    },
    {
      "cell_type": "code",
      "source": [
        "df = pd.read_csv(\"Faults.NNA\", sep=\"\\t\", header=None)\n",
        "columns = ['X'+str(i) for i in range(1,28)] + ['Y'+str(i) for i in range(1,8)]\n",
        "df.columns=columns"
      ],
      "metadata": {
        "id": "EzfMfhfanL4h"
      },
      "execution_count": 61,
      "outputs": []
    },
    {
      "cell_type": "code",
      "source": [
        "df[\"Y8\"] = df.iloc[:, 27:34].sum(axis=1)"
      ],
      "metadata": {
        "id": "XNh2LZ6OnL7s"
      },
      "execution_count": 66,
      "outputs": []
    },
    {
      "cell_type": "code",
      "source": [
        "from sklearn.model_selection import train_test_split\n",
        "train, test = train_test_split(df, test_size=0.2)\n",
        "\n",
        "from sklearn.ensemble import RandomForestRegressor, GradientBoostingRegressor\n",
        "model1 = GradientBoostingRegressor().fit( train.iloc[:, :27], train.Y8)\n",
        "pred = model1.predict( test.iloc[:, :27])\n",
        "\n",
        "from sklearn.metrics import mean_squared_error\n",
        "mean_squared_error( test.Y8, pred)**0.5"
      ],
      "metadata": {
        "id": "RQuGWO9MoaCk"
      },
      "execution_count": null,
      "outputs": []
    }
  ]
}