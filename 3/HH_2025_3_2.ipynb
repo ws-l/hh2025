{
  "nbformat": 4,
  "nbformat_minor": 0,
  "metadata": {
    "colab": {
      "provenance": []
    },
    "kernelspec": {
      "name": "python3",
      "display_name": "Python 3"
    },
    "language_info": {
      "name": "python"
    }
  },
  "cells": [
    {
      "cell_type": "markdown",
      "source": [
        "#1. 분산분석"
      ],
      "metadata": {
        "id": "Ff8qslD0s9K3"
      }
    },
    {
      "cell_type": "markdown",
      "source": [
        "1. 분산분석과 다중비교"
      ],
      "metadata": {
        "id": "kBA7Fm3w0AT1"
      }
    },
    {
      "cell_type": "code",
      "source": [
        "from scipy import stats\n",
        "import matplotlib.pyplot as plt\n",
        "from statsmodels.stats.multicomp import pairwise_tukeyhsd\n",
        "\n",
        "group1 = [60, 70, 80, 55]\n",
        "group2 = [50, 65, 85, 65]\n",
        "group3 = [105, 115, 99, 125]\n",
        "plot_data = [group1, group2, group3]\n",
        "\n",
        "ax = plt.boxplot(plot_data)\n",
        "plt.show()\n"
      ],
      "metadata": {
        "id": "rHfWFnaS0Ac4",
        "colab": {
          "base_uri": "https://localhost:8080/",
          "height": 430
        },
        "outputId": "40ea093e-c72f-43fc-8e73-4555f358f9b6"
      },
      "execution_count": 1,
      "outputs": [
        {
          "output_type": "display_data",
          "data": {
            "text/plain": [
              "<Figure size 640x480 with 1 Axes>"
            ],
            "image/png": "[encoded data removed]"
          },
          "metadata": {}
        }
      ]
    },
    {
      "cell_type": "code",
      "source": [
        "stats.f_oneway(group1, group2, group3)"
      ],
      "metadata": {
        "colab": {
          "base_uri": "https://localhost:8080/"
        },
        "id": "uLtz_VoO4yD2",
        "outputId": "414161bf-b7a3-445a-b62b-d8ebd20d96a1"
      },
      "execution_count": 2,
      "outputs": [
        {
          "output_type": "execute_result",
          "data": {
            "text/plain": [
              "F_onewayResult(statistic=np.float64(17.419898513954344), pvalue=np.float64(0.0008047905831477702))"
            ]
          },
          "metadata": {},
          "execution_count": 2
        }
      ]
    },
    {
      "cell_type": "code",
      "source": [
        "values = group1 + group2 + group3\n",
        "group = [1,1,1,1,2,2,2,2,3,3,3,3]\n",
        "\n",
        "tukey = pairwise_tukeyhsd(endog=values,     # Data\n",
        "                          groups=group,   # Groups\n",
        "                          alpha=0.05)          # Significance level\n",
        "tukey.summary()              # See test summary\n"
      ],
      "metadata": {
        "colab": {
          "base_uri": "https://localhost:8080/",
          "height": 121
        },
        "id": "pr3BpFzPV_fu",
        "outputId": "1a30dcb4-a514-4e0b-ccab-634c836c650d"
      },
      "execution_count": 3,
      "outputs": [
        {
          "output_type": "execute_result",
          "data": {
            "text/plain": [
              "<class 'statsmodels.iolib.table.SimpleTable'>"
            ],
            "text/html": [
              "<table class=\"simpletable\">\n",
              "<caption>Multiple Comparison of Means - Tukey HSD, FWER=0.05</caption>\n",
              "<tr>\n",
              "  <th>group1</th> <th>group2</th> <th>meandiff</th>  <th>p-adj</th>   <th>lower</th>   <th>upper</th>  <th>reject</th>\n",
              "</tr>\n",
              "<tr>\n",
              "     <td>1</td>      <td>2</td>      <td>0.0</td>     <td>1.0</td>  <td>-24.4422</td> <td>24.4422</td>  <td>False</td>\n",
              "</tr>\n",
              "<tr>\n",
              "     <td>1</td>      <td>3</td>     <td>44.75</td>  <td>0.0016</td>  <td>20.3078</td> <td>69.1922</td>  <td>True</td> \n",
              "</tr>\n",
              "<tr>\n",
              "     <td>2</td>      <td>3</td>     <td>44.75</td>  <td>0.0016</td>  <td>20.3078</td> <td>69.1922</td>  <td>True</td> \n",
              "</tr>\n",
              "</table>"
            ],
            "text/latex": "\\begin{center}\n\\begin{tabular}{ccccccc}\n\\toprule\n\\textbf{group1} & \\textbf{group2} & \\textbf{meandiff} & \\textbf{p-adj} & \\textbf{lower} & \\textbf{upper} & \\textbf{reject}  \\\\\n\\midrule\n       1        &        2        &        0.0        &      1.0       &    -24.4422    &    24.4422     &      False       \\\\\n       1        &        3        &       44.75       &     0.0016     &    20.3078     &    69.1922     &       True       \\\\\n       2        &        3        &       44.75       &     0.0016     &    20.3078     &    69.1922     &       True       \\\\\n\\bottomrule\n\\end{tabular}\n%\\caption{Multiple Comparison of Means - Tukey HSD, FWER=0.05}\n\\end{center}"
          },
          "metadata": {},
          "execution_count": 3
        }
      ]
    },
    {
      "cell_type": "markdown",
      "source": [
        "- 분산 분석 응용"
      ],
      "metadata": {
        "id": "bMiXEJSw5Bvj"
      }
    },
    {
      "cell_type": "code",
      "source": [
        "import pandas as pd\n",
        "data = pd.read_csv('https://raw.githubusercontent.com/ws-l/hh2025/main/data/voter1.csv')"
      ],
      "metadata": {
        "id": "4tOjbP0c5CB2"
      },
      "execution_count": 5,
      "outputs": []
    },
    {
      "cell_type": "code",
      "source": [
        "A = data.query(\"category=='A'\")\n",
        "B = data.query(\"category=='B'\")\n",
        "C = data.query(\"category=='C'\")\n",
        "D = data.query(\"category=='D'\")\n",
        "E = data.query(\"category=='E'\")"
      ],
      "metadata": {
        "id": "12rIs0tNXmjx"
      },
      "execution_count": 6,
      "outputs": []
    },
    {
      "cell_type": "code",
      "source": [
        "# ANOVA\n",
        "stats.f_oneway(A.age, B.age, C.age, D.age, E.age)"
      ],
      "metadata": {
        "colab": {
          "base_uri": "https://localhost:8080/"
        },
        "id": "-DufGOoO5vfW",
        "outputId": "347337bb-d23e-4a8d-d8e4-8ee4179a34b9"
      },
      "execution_count": 7,
      "outputs": [
        {
          "output_type": "execute_result",
          "data": {
            "text/plain": [
              "F_onewayResult(statistic=np.float64(1.7744689357329695), pvalue=np.float64(0.13173183201930463))"
            ]
          },
          "metadata": {},
          "execution_count": 7
        }
      ]
    },
    {
      "cell_type": "code",
      "source": [
        "from statsmodels.stats.multicomp import pairwise_tukeyhsd\n",
        "tukey = pairwise_tukeyhsd(endog=data.age,     # Data\n",
        "                          groups=data.category,   # Groups\n",
        "                          alpha=0.05)          # Significance level\n",
        "\n",
        "tukey.summary()"
      ],
      "metadata": {
        "colab": {
          "base_uri": "https://localhost:8080/",
          "height": 287
        },
        "id": "kfgQ7XZI6olP",
        "outputId": "609ff60d-c604-4e63-8049-1f94c04aa4cd"
      },
      "execution_count": 8,
      "outputs": [
        {
          "output_type": "execute_result",
          "data": {
            "text/plain": [
              "<class 'statsmodels.iolib.table.SimpleTable'>"
            ],
            "text/html": [
              "<table class=\"simpletable\">\n",
              "<caption>Multiple Comparison of Means - Tukey HSD, FWER=0.05</caption>\n",
              "<tr>\n",
              "  <th>group1</th> <th>group2</th> <th>meandiff</th>  <th>p-adj</th>  <th>lower</th>   <th>upper</th> <th>reject</th>\n",
              "</tr>\n",
              "<tr>\n",
              "     <td>A</td>      <td>B</td>    <td>-1.3353</td> <td>0.5848</td> <td>-3.8242</td> <td>1.1535</td>  <td>False</td>\n",
              "</tr>\n",
              "<tr>\n",
              "     <td>A</td>      <td>C</td>    <td>-0.7593</td> <td>0.9062</td> <td>-3.1315</td> <td>1.6129</td>  <td>False</td>\n",
              "</tr>\n",
              "<tr>\n",
              "     <td>A</td>      <td>D</td>    <td>-0.0264</td>   <td>1.0</td>  <td>-3.0202</td> <td>2.9674</td>  <td>False</td>\n",
              "</tr>\n",
              "<tr>\n",
              "     <td>A</td>      <td>E</td>    <td>-1.4184</td> <td>0.4319</td> <td>-3.6932</td> <td>0.8564</td>  <td>False</td>\n",
              "</tr>\n",
              "<tr>\n",
              "     <td>B</td>      <td>C</td>     <td>0.576</td>  <td>0.8362</td> <td>-0.9362</td> <td>2.0882</td>  <td>False</td>\n",
              "</tr>\n",
              "<tr>\n",
              "     <td>B</td>      <td>D</td>     <td>1.309</td>  <td>0.5571</td> <td>-1.0622</td> <td>3.6801</td>  <td>False</td>\n",
              "</tr>\n",
              "<tr>\n",
              "     <td>B</td>      <td>E</td>    <td>-0.0831</td> <td>0.9998</td> <td>-1.4374</td> <td>1.2713</td>  <td>False</td>\n",
              "</tr>\n",
              "<tr>\n",
              "     <td>C</td>      <td>D</td>     <td>0.733</td>  <td>0.9003</td> <td>-1.5154</td> <td>2.9813</td>  <td>False</td>\n",
              "</tr>\n",
              "<tr>\n",
              "     <td>C</td>      <td>E</td>    <td>-0.6591</td> <td>0.4976</td> <td>-1.7847</td> <td>0.4665</td>  <td>False</td>\n",
              "</tr>\n",
              "<tr>\n",
              "     <td>D</td>      <td>E</td>    <td>-1.392</td>  <td>0.3899</td> <td>-3.5374</td> <td>0.7533</td>  <td>False</td>\n",
              "</tr>\n",
              "</table>"
            ],
            "text/latex": "\\begin{center}\n\\begin{tabular}{ccccccc}\n\\toprule\n\\textbf{group1} & \\textbf{group2} & \\textbf{meandiff} & \\textbf{p-adj} & \\textbf{lower} & \\textbf{upper} & \\textbf{reject}  \\\\\n\\midrule\n       A        &        B        &      -1.3353      &     0.5848     &    -3.8242     &     1.1535     &      False       \\\\\n       A        &        C        &      -0.7593      &     0.9062     &    -3.1315     &     1.6129     &      False       \\\\\n       A        &        D        &      -0.0264      &      1.0       &    -3.0202     &     2.9674     &      False       \\\\\n       A        &        E        &      -1.4184      &     0.4319     &    -3.6932     &     0.8564     &      False       \\\\\n       B        &        C        &       0.576       &     0.8362     &    -0.9362     &     2.0882     &      False       \\\\\n       B        &        D        &       1.309       &     0.5571     &    -1.0622     &     3.6801     &      False       \\\\\n       B        &        E        &      -0.0831      &     0.9998     &    -1.4374     &     1.2713     &      False       \\\\\n       C        &        D        &       0.733       &     0.9003     &    -1.5154     &     2.9813     &      False       \\\\\n       C        &        E        &      -0.6591      &     0.4976     &    -1.7847     &     0.4665     &      False       \\\\\n       D        &        E        &       -1.392      &     0.3899     &    -3.5374     &     0.7533     &      False       \\\\\n\\bottomrule\n\\end{tabular}\n%\\caption{Multiple Comparison of Means - Tukey HSD, FWER=0.05}\n\\end{center}"
          },
          "metadata": {},
          "execution_count": 8
        }
      ]
    },
    {
      "cell_type": "markdown",
      "source": [
        "- 이원 분산분석"
      ],
      "metadata": {
        "id": "pnZqv10OYSJE"
      }
    },
    {
      "cell_type": "code",
      "source": [
        "import statsmodels.api as sm\n",
        "import statsmodels.formula.api as smf\n",
        "import pandas as pd\n",
        "\n",
        "pd.options.display.float_format = '{:,.2f}'.format\n",
        "\n",
        "# diamonds 데이터셋 불러오기\n",
        "df = sm.datasets.get_rdataset(\"diamonds\", \"ggplot2\").data\n",
        "\n",
        "# 데이터 확인\n",
        "print(df.head())\n",
        "print(df['cut'].value_counts())"
      ],
      "metadata": {
        "colab": {
          "base_uri": "https://localhost:8080/"
        },
        "id": "N4pDv8yyaI25",
        "outputId": "a96d582f-80bb-4c59-8e66-906851899960"
      },
      "execution_count": 9,
      "outputs": [
        {
          "output_type": "stream",
          "name": "stdout",
          "text": [
            "   carat      cut color clarity  depth  table  price    x    y    z\n",
            "0   0.23    Ideal     E     SI2  61.50  55.00    326 3.95 3.98 2.43\n",
            "1   0.21  Premium     E     SI1  59.80  61.00    326 3.89 3.84 2.31\n",
            "2   0.23     Good     E     VS1  56.90  65.00    327 4.05 4.07 2.31\n",
            "3   0.29  Premium     I     VS2  62.40  58.00    334 4.20 4.23 2.63\n",
            "4   0.31     Good     J     SI2  63.30  58.00    335 4.34 4.35 2.75\n",
            "cut\n",
            "Ideal        21551\n",
            "Premium      13791\n",
            "Very Good    12082\n",
            "Good          4906\n",
            "Fair          1610\n",
            "Name: count, dtype: int64\n"
          ]
        }
      ]
    },
    {
      "cell_type": "code",
      "source": [
        "# 모델 적합: 두 요인과 상호작용 포함\n",
        "model = smf.ols('price ~ cut + clarity + cut:clarity', data=df).fit()\n",
        "anova_table = sm.stats.anova_lm(model, typ=2)\n",
        "\n",
        "print(anova_table)"
      ],
      "metadata": {
        "colab": {
          "base_uri": "https://localhost:8080/"
        },
        "id": "TFHnqqBPaRkg",
        "outputId": "23a3b5d7-a9e1-448f-8dc7-e158f33c5bda"
      },
      "execution_count": 10,
      "outputs": [
        {
          "output_type": "stream",
          "name": "stdout",
          "text": [
            "                        sum_sq        df      F  PR(>F)\n",
            "cut           6,643,753,803.26      4.00 108.40    0.00\n",
            "clarity      18,909,811,326.11      7.00 176.30    0.00\n",
            "cut:clarity   2,646,560,835.29     28.00   6.17    0.00\n",
            "Residual    825,875,017,997.34 53,900.00    NaN     NaN\n"
          ]
        }
      ]
    },
    {
      "cell_type": "markdown",
      "source": [
        "#2. 실습"
      ],
      "metadata": {
        "id": "k1tN4K13RpzB"
      }
    },
    {
      "cell_type": "markdown",
      "source": [
        "- https://www.kamp-ai.kr/aidataList의 CNC 데이터 혹은 github의 Dataset_CNC를 다운로드\n",
        "- 원본 데이터의 실험별 csv를 하나의 데이터프레임으로 읽기\n",
        "- 전처리: 결측치 등\n",
        "- EDA\n",
        "- 실험별 y_output에 대한 분산분석\n",
        "- 실험별+단계별y_output에 대한 분산분석"
      ],
      "metadata": {
        "id": "gcXlRuTARw5O"
      }
    },
    {
      "cell_type": "code",
      "source": [],
      "metadata": {
        "id": "xIPfDTzrRrPE"
      },
      "execution_count": null,
      "outputs": []
    }
  ]
}