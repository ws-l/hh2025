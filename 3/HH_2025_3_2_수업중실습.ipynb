{
  "nbformat": 4,
  "nbformat_minor": 0,
  "metadata": {
    "colab": {
      "provenance": []
    },
    "kernelspec": {
      "name": "python3",
      "display_name": "Python 3"
    },
    "language_info": {
      "name": "python"
    }
  },
  "cells": [
    {
      "cell_type": "markdown",
      "source": [
        "#1. 분산분석"
      ],
      "metadata": {
        "id": "Ff8qslD0s9K3"
      }
    },
    {
      "cell_type": "markdown",
      "source": [
        "1. 분산분석과 다중비교"
      ],
      "metadata": {
        "id": "kBA7Fm3w0AT1"
      }
    },
    {
      "cell_type": "code",
      "source": [
        "from scipy import stats\n",
        "import matplotlib.pyplot as plt\n",
        "from statsmodels.stats.multicomp import pairwise_tukeyhsd\n",
        "\n",
        "group1 = [60, 70, 80, 55]\n",
        "group2 = [50, 65, 85, 65]\n",
        "group3 = [105, 115, 99, 125]\n",
        "plot_data = [group1, group2, group3]\n",
        "\n",
        "ax = plt.boxplot(plot_data)\n",
        "plt.show()\n"
      ],
      "metadata": {
        "id": "rHfWFnaS0Ac4",
        "colab": {
          "base_uri": "https://localhost:8080/",
          "height": 430
        },
        "outputId": "176f6dc9-a28d-4b82-f20e-cf507dbd7f3e"
      },
      "execution_count": 1,
      "outputs": [
        {
          "output_type": "display_data",
          "data": {
            "text/plain": [
              "<Figure size 640x480 with 1 Axes>"
            ],
            "image/png": "[encoded data removed]"
          },
          "metadata": {}
        }
      ]
    },
    {
      "cell_type": "code",
      "source": [
        "stats.f_oneway(group1, group2, group3)"
      ],
      "metadata": {
        "colab": {
          "base_uri": "https://localhost:8080/"
        },
        "id": "uLtz_VoO4yD2",
        "outputId": "a408c3af-59d6-47bc-b942-4c0781f102e4"
      },
      "execution_count": 2,
      "outputs": [
        {
          "output_type": "execute_result",
          "data": {
            "text/plain": [
              "F_onewayResult(statistic=np.float64(17.419898513954344), pvalue=np.float64(0.0008047905831477702))"
            ]
          },
          "metadata": {},
          "execution_count": 2
        }
      ]
    },
    {
      "cell_type": "code",
      "source": [
        "values = group1 + group2 + group3\n",
        "group = [1,1,1,1,2,2,2,2,3,3,3,3]\n",
        "\n",
        "tukey = pairwise_tukeyhsd(endog=values,     # Data\n",
        "                          groups=group,   # Groups\n",
        "                          alpha=0.05)          # Significance level\n",
        "tukey.summary()              # See test summary\n"
      ],
      "metadata": {
        "colab": {
          "base_uri": "https://localhost:8080/",
          "height": 122
        },
        "id": "pr3BpFzPV_fu",
        "outputId": "04a9f66d-58f8-4be9-a852-2bfa97ce8793"
      },
      "execution_count": 3,
      "outputs": [
        {
          "output_type": "execute_result",
          "data": {
            "text/plain": [
              "<class 'statsmodels.iolib.table.SimpleTable'>"
            ],
            "text/html": [
              "<table class=\"simpletable\">\n",
              "<caption>Multiple Comparison of Means - Tukey HSD, FWER=0.05</caption>\n",
              "<tr>\n",
              "  <th>group1</th> <th>group2</th> <th>meandiff</th>  <th>p-adj</th>   <th>lower</th>   <th>upper</th>  <th>reject</th>\n",
              "</tr>\n",
              "<tr>\n",
              "     <td>1</td>      <td>2</td>      <td>0.0</td>     <td>1.0</td>  <td>-24.4422</td> <td>24.4422</td>  <td>False</td>\n",
              "</tr>\n",
              "<tr>\n",
              "     <td>1</td>      <td>3</td>     <td>44.75</td>  <td>0.0016</td>  <td>20.3078</td> <td>69.1922</td>  <td>True</td> \n",
              "</tr>\n",
              "<tr>\n",
              "     <td>2</td>      <td>3</td>     <td>44.75</td>  <td>0.0016</td>  <td>20.3078</td> <td>69.1922</td>  <td>True</td> \n",
              "</tr>\n",
              "</table>"
            ],
            "text/latex": "\\begin{center}\n\\begin{tabular}{ccccccc}\n\\toprule\n\\textbf{group1} & \\textbf{group2} & \\textbf{meandiff} & \\textbf{p-adj} & \\textbf{lower} & \\textbf{upper} & \\textbf{reject}  \\\\\n\\midrule\n       1        &        2        &        0.0        &      1.0       &    -24.4422    &    24.4422     &      False       \\\\\n       1        &        3        &       44.75       &     0.0016     &    20.3078     &    69.1922     &       True       \\\\\n       2        &        3        &       44.75       &     0.0016     &    20.3078     &    69.1922     &       True       \\\\\n\\bottomrule\n\\end{tabular}\n%\\caption{Multiple Comparison of Means - Tukey HSD, FWER=0.05}\n\\end{center}"
          },
          "metadata": {},
          "execution_count": 3
        }
      ]
    },
    {
      "cell_type": "markdown",
      "source": [
        "- 분산 분석 응용"
      ],
      "metadata": {
        "id": "bMiXEJSw5Bvj"
      }
    },
    {
      "cell_type": "code",
      "source": [
        "import pandas as pd\n",
        "data = pd.read_csv('https://raw.githubusercontent.com/ws-l/hh2025/main/data/voter1.csv')"
      ],
      "metadata": {
        "id": "4tOjbP0c5CB2"
      },
      "execution_count": 4,
      "outputs": []
    },
    {
      "cell_type": "code",
      "source": [
        "data.head()"
      ],
      "metadata": {
        "id": "JWlE_x6Z19My",
        "outputId": "97579aa6-f128-479c-e064-9b68e3ff43ca",
        "colab": {
          "base_uri": "https://localhost:8080/",
          "height": 206
        }
      },
      "execution_count": 5,
      "outputs": [
        {
          "output_type": "execute_result",
          "data": {
            "text/plain": [
              "   age category\n",
              "0   51        B\n",
              "1   49        E\n",
              "2   51        C\n",
              "3   48        E\n",
              "4   56        A"
            ],
            "text/html": [
              "\n",
              "  <div id=\"df-c4d8b4db-c67a-423e-9e17-3321830c9064\" class=\"colab-df-container\">\n",
              "    <div>\n",
              "<style scoped>\n",
              "    .dataframe tbody tr th:only-of-type {\n",
              "        vertical-align: middle;\n",
              "    }\n",
              "\n",
              "    .dataframe tbody tr th {\n",
              "        vertical-align: top;\n",
              "    }\n",
              "\n",
              "    .dataframe thead th {\n",
              "        text-align: right;\n",
              "    }\n",
              "</style>\n",
              "<table border=\"1\" class=\"dataframe\">\n",
              "  <thead>\n",
              "    <tr style=\"text-align: right;\">\n",
              "      <th></th>\n",
              "      <th>age</th>\n",
              "      <th>category</th>\n",
              "    </tr>\n",
              "  </thead>\n",
              "  <tbody>\n",
              "    <tr>\n",
              "      <th>0</th>\n",
              "      <td>51</td>\n",
              "      <td>B</td>\n",
              "    </tr>\n",
              "    <tr>\n",
              "      <th>1</th>\n",
              "      <td>49</td>\n",
              "      <td>E</td>\n",
              "    </tr>\n",
              "    <tr>\n",
              "      <th>2</th>\n",
              "      <td>51</td>\n",
              "      <td>C</td>\n",
              "    </tr>\n",
              "    <tr>\n",
              "      <th>3</th>\n",
              "      <td>48</td>\n",
              "      <td>E</td>\n",
              "    </tr>\n",
              "    <tr>\n",
              "      <th>4</th>\n",
              "      <td>56</td>\n",
              "      <td>A</td>\n",
              "    </tr>\n",
              "  </tbody>\n",
              "</table>\n",
              "</div>\n",
              "    <div class=\"colab-df-buttons\">\n",
              "\n",
              "  <div class=\"colab-df-container\">\n",
              "    <button class=\"colab-df-convert\" onclick=\"convertToInteractive('df-c4d8b4db-c67a-423e-9e17-3321830c9064')\"\n",
              "            title=\"Convert this dataframe to an interactive table.\"\n",
              "            style=\"display:none;\">\n",
              "\n",
              "  <svg xmlns=\"http://www.w3.org/2000/svg\" height=\"24px\" viewBox=\"0 -960 960 960\">\n",
              "    <path d=\"M120-120v-720h720v720H120Zm60-500h600v-160H180v160Zm220 220h160v-160H400v160Zm0 220h160v-160H400v160ZM180-400h160v-160H180v160Zm440 0h160v-160H620v160ZM180-180h160v-160H180v160Zm440 0h160v-160H620v160Z\"/>\n",
              "  </svg>\n",
              "    </button>\n",
              "\n",
              "  <style>\n",
              "    .colab-df-container {\n",
              "      display:flex;\n",
              "      gap: 12px;\n",
              "    }\n",
              "\n",
              "    .colab-df-convert {\n",
              "      background-color: #E8F0FE;\n",
              "      border: none;\n",
              "      border-radius: 50%;\n",
              "      cursor: pointer;\n",
              "      display: none;\n",
              "      fill: #1967D2;\n",
              "      height: 32px;\n",
              "      padding: 0 0 0 0;\n",
              "      width: 32px;\n",
              "    }\n",
              "\n",
              "    .colab-df-convert:hover {\n",
              "      background-color: #E2EBFA;\n",
              "      box-shadow: 0px 1px 2px rgba(60, 64, 67, 0.3), 0px 1px 3px 1px rgba(60, 64, 67, 0.15);\n",
              "      fill: #174EA6;\n",
              "    }\n",
              "\n",
              "    .colab-df-buttons div {\n",
              "      margin-bottom: 4px;\n",
              "    }\n",
              "\n",
              "    [theme=dark] .colab-df-convert {\n",
              "      background-color: #3B4455;\n",
              "      fill: #D2E3FC;\n",
              "    }\n",
              "\n",
              "    [theme=dark] .colab-df-convert:hover {\n",
              "      background-color: #434B5C;\n",
              "      box-shadow: 0px 1px 3px 1px rgba(0, 0, 0, 0.15);\n",
              "      filter: drop-shadow(0px 1px 2px rgba(0, 0, 0, 0.3));\n",
              "      fill: #FFFFFF;\n",
              "    }\n",
              "  </style>\n",
              "\n",
              "    <script>\n",
              "      const buttonEl =\n",
              "        document.querySelector('#df-c4d8b4db-c67a-423e-9e17-3321830c9064 button.colab-df-convert');\n",
              "      buttonEl.style.display =\n",
              "        google.colab.kernel.accessAllowed ? 'block' : 'none';\n",
              "\n",
              "      async function convertToInteractive(key) {\n",
              "        const element = document.querySelector('#df-c4d8b4db-c67a-423e-9e17-3321830c9064');\n",
              "        const dataTable =\n",
              "          await google.colab.kernel.invokeFunction('convertToInteractive',\n",
              "                                                    [key], {});\n",
              "        if (!dataTable) return;\n",
              "\n",
              "        const docLinkHtml = 'Like what you see? Visit the ' +\n",
              "          '<a target=\"_blank\" href=https://colab.research.google.com/notebooks/data_table.ipynb>data table notebook</a>'\n",
              "          + ' to learn more about interactive tables.';\n",
              "        element.innerHTML = '';\n",
              "        dataTable['output_type'] = 'display_data';\n",
              "        await google.colab.output.renderOutput(dataTable, element);\n",
              "        const docLink = document.createElement('div');\n",
              "        docLink.innerHTML = docLinkHtml;\n",
              "        element.appendChild(docLink);\n",
              "      }\n",
              "    </script>\n",
              "  </div>\n",
              "\n",
              "\n",
              "    <div id=\"df-b4157ae3-9d49-4a4f-be69-43a7a30f00eb\">\n",
              "      <button class=\"colab-df-quickchart\" onclick=\"quickchart('df-b4157ae3-9d49-4a4f-be69-43a7a30f00eb')\"\n",
              "                title=\"Suggest charts\"\n",
              "                style=\"display:none;\">\n",
              "\n",
              "<svg xmlns=\"http://www.w3.org/2000/svg\" height=\"24px\"viewBox=\"0 0 24 24\"\n",
              "     width=\"24px\">\n",
              "    <g>\n",
              "        <path d=\"M19 3H5c-1.1 0-2 .9-2 2v14c0 1.1.9 2 2 2h14c1.1 0 2-.9 2-2V5c0-1.1-.9-2-2-2zM9 17H7v-7h2v7zm4 0h-2V7h2v10zm4 0h-2v-4h2v4z\"/>\n",
              "    </g>\n",
              "</svg>\n",
              "      </button>\n",
              "\n",
              "<style>\n",
              "  .colab-df-quickchart {\n",
              "      --bg-color: #E8F0FE;\n",
              "      --fill-color: #1967D2;\n",
              "      --hover-bg-color: #E2EBFA;\n",
              "      --hover-fill-color: #174EA6;\n",
              "      --disabled-fill-color: #AAA;\n",
              "      --disabled-bg-color: #DDD;\n",
              "  }\n",
              "\n",
              "  [theme=dark] .colab-df-quickchart {\n",
              "      --bg-color: #3B4455;\n",
              "      --fill-color: #D2E3FC;\n",
              "      --hover-bg-color: #434B5C;\n",
              "      --hover-fill-color: #FFFFFF;\n",
              "      --disabled-bg-color: #3B4455;\n",
              "      --disabled-fill-color: #666;\n",
              "  }\n",
              "\n",
              "  .colab-df-quickchart {\n",
              "    background-color: var(--bg-color);\n",
              "    border: none;\n",
              "    border-radius: 50%;\n",
              "    cursor: pointer;\n",
              "    display: none;\n",
              "    fill: var(--fill-color);\n",
              "    height: 32px;\n",
              "    padding: 0;\n",
              "    width: 32px;\n",
              "  }\n",
              "\n",
              "  .colab-df-quickchart:hover {\n",
              "    background-color: var(--hover-bg-color);\n",
              "    box-shadow: 0 1px 2px rgba(60, 64, 67, 0.3), 0 1px 3px 1px rgba(60, 64, 67, 0.15);\n",
              "    fill: var(--button-hover-fill-color);\n",
              "  }\n",
              "\n",
              "  .colab-df-quickchart-complete:disabled,\n",
              "  .colab-df-quickchart-complete:disabled:hover {\n",
              "    background-color: var(--disabled-bg-color);\n",
              "    fill: var(--disabled-fill-color);\n",
              "    box-shadow: none;\n",
              "  }\n",
              "\n",
              "  .colab-df-spinner {\n",
              "    border: 2px solid var(--fill-color);\n",
              "    border-color: transparent;\n",
              "    border-bottom-color: var(--fill-color);\n",
              "    animation:\n",
              "      spin 1s steps(1) infinite;\n",
              "  }\n",
              "\n",
              "  @keyframes spin {\n",
              "    0% {\n",
              "      border-color: transparent;\n",
              "      border-bottom-color: var(--fill-color);\n",
              "      border-left-color: var(--fill-color);\n",
              "    }\n",
              "    20% {\n",
              "      border-color: transparent;\n",
              "      border-left-color: var(--fill-color);\n",
              "      border-top-color: var(--fill-color);\n",
              "    }\n",
              "    30% {\n",
              "      border-color: transparent;\n",
              "      border-left-color: var(--fill-color);\n",
              "      border-top-color: var(--fill-color);\n",
              "      border-right-color: var(--fill-color);\n",
              "    }\n",
              "    40% {\n",
              "      border-color: transparent;\n",
              "      border-right-color: var(--fill-color);\n",
              "      border-top-color: var(--fill-color);\n",
              "    }\n",
              "    60% {\n",
              "      border-color: transparent;\n",
              "      border-right-color: var(--fill-color);\n",
              "    }\n",
              "    80% {\n",
              "      border-color: transparent;\n",
              "      border-right-color: var(--fill-color);\n",
              "      border-bottom-color: var(--fill-color);\n",
              "    }\n",
              "    90% {\n",
              "      border-color: transparent;\n",
              "      border-bottom-color: var(--fill-color);\n",
              "    }\n",
              "  }\n",
              "</style>\n",
              "\n",
              "      <script>\n",
              "        async function quickchart(key) {\n",
              "          const quickchartButtonEl =\n",
              "            document.querySelector('#' + key + ' button');\n",
              "          quickchartButtonEl.disabled = true;  // To prevent multiple clicks.\n",
              "          quickchartButtonEl.classList.add('colab-df-spinner');\n",
              "          try {\n",
              "            const charts = await google.colab.kernel.invokeFunction(\n",
              "                'suggestCharts', [key], {});\n",
              "          } catch (error) {\n",
              "            console.error('Error during call to suggestCharts:', error);\n",
              "          }\n",
              "          quickchartButtonEl.classList.remove('colab-df-spinner');\n",
              "          quickchartButtonEl.classList.add('colab-df-quickchart-complete');\n",
              "        }\n",
              "        (() => {\n",
              "          let quickchartButtonEl =\n",
              "            document.querySelector('#df-b4157ae3-9d49-4a4f-be69-43a7a30f00eb button');\n",
              "          quickchartButtonEl.style.display =\n",
              "            google.colab.kernel.accessAllowed ? 'block' : 'none';\n",
              "        })();\n",
              "      </script>\n",
              "    </div>\n",
              "\n",
              "    </div>\n",
              "  </div>\n"
            ],
            "application/vnd.google.colaboratory.intrinsic+json": {
              "type": "dataframe",
              "variable_name": "data",
              "summary": "{\n  \"name\": \"data\",\n  \"rows\": 1000,\n  \"fields\": [\n    {\n      \"column\": \"age\",\n      \"properties\": {\n        \"dtype\": \"number\",\n        \"std\": 5,\n        \"min\": 34,\n        \"max\": 66,\n        \"num_unique_values\": 31,\n        \"samples\": [\n          38,\n          44,\n          41\n        ],\n        \"semantic_type\": \"\",\n        \"description\": \"\"\n      }\n    },\n    {\n      \"column\": \"category\",\n      \"properties\": {\n        \"dtype\": \"category\",\n        \"num_unique_values\": 5,\n        \"samples\": [\n          \"E\",\n          \"D\",\n          \"C\"\n        ],\n        \"semantic_type\": \"\",\n        \"description\": \"\"\n      }\n    }\n  ]\n}"
            }
          },
          "metadata": {},
          "execution_count": 5
        }
      ]
    },
    {
      "cell_type": "code",
      "source": [
        "A = data.query(\"category=='A'\")\n",
        "B = data.query(\"category=='B'\")\n",
        "C = data.query(\"category=='C'\")\n",
        "D = data.query(\"category=='D'\")\n",
        "E = data.query(\"category=='E'\")"
      ],
      "metadata": {
        "id": "12rIs0tNXmjx"
      },
      "execution_count": 6,
      "outputs": []
    },
    {
      "cell_type": "code",
      "source": [
        "# ANOVA\n",
        "stats.f_oneway(A.age, B.age, C.age, D.age, E.age)"
      ],
      "metadata": {
        "colab": {
          "base_uri": "https://localhost:8080/"
        },
        "id": "-DufGOoO5vfW",
        "outputId": "e52e1445-6806-4d5d-f12a-d1e5609cdfbe"
      },
      "execution_count": 7,
      "outputs": [
        {
          "output_type": "execute_result",
          "data": {
            "text/plain": [
              "F_onewayResult(statistic=np.float64(1.7744689357329695), pvalue=np.float64(0.13173183201930463))"
            ]
          },
          "metadata": {},
          "execution_count": 7
        }
      ]
    },
    {
      "cell_type": "code",
      "source": [
        "from statsmodels.stats.multicomp import pairwise_tukeyhsd\n",
        "tukey = pairwise_tukeyhsd(endog=data.age,     # Data\n",
        "                          groups=data.category,   # Groups\n",
        "                          alpha=0.05)          # Significance level\n",
        "\n",
        "tukey.summary()"
      ],
      "metadata": {
        "colab": {
          "base_uri": "https://localhost:8080/",
          "height": 287
        },
        "id": "kfgQ7XZI6olP",
        "outputId": "609ff60d-c604-4e63-8049-1f94c04aa4cd"
      },
      "execution_count": null,
      "outputs": [
        {
          "output_type": "execute_result",
          "data": {
            "text/plain": [
              "<class 'statsmodels.iolib.table.SimpleTable'>"
            ],
            "text/html": [
              "<table class=\"simpletable\">\n",
              "<caption>Multiple Comparison of Means - Tukey HSD, FWER=0.05</caption>\n",
              "<tr>\n",
              "  <th>group1</th> <th>group2</th> <th>meandiff</th>  <th>p-adj</th>  <th>lower</th>   <th>upper</th> <th>reject</th>\n",
              "</tr>\n",
              "<tr>\n",
              "     <td>A</td>      <td>B</td>    <td>-1.3353</td> <td>0.5848</td> <td>-3.8242</td> <td>1.1535</td>  <td>False</td>\n",
              "</tr>\n",
              "<tr>\n",
              "     <td>A</td>      <td>C</td>    <td>-0.7593</td> <td>0.9062</td> <td>-3.1315</td> <td>1.6129</td>  <td>False</td>\n",
              "</tr>\n",
              "<tr>\n",
              "     <td>A</td>      <td>D</td>    <td>-0.0264</td>   <td>1.0</td>  <td>-3.0202</td> <td>2.9674</td>  <td>False</td>\n",
              "</tr>\n",
              "<tr>\n",
              "     <td>A</td>      <td>E</td>    <td>-1.4184</td> <td>0.4319</td> <td>-3.6932</td> <td>0.8564</td>  <td>False</td>\n",
              "</tr>\n",
              "<tr>\n",
              "     <td>B</td>      <td>C</td>     <td>0.576</td>  <td>0.8362</td> <td>-0.9362</td> <td>2.0882</td>  <td>False</td>\n",
              "</tr>\n",
              "<tr>\n",
              "     <td>B</td>      <td>D</td>     <td>1.309</td>  <td>0.5571</td> <td>-1.0622</td> <td>3.6801</td>  <td>False</td>\n",
              "</tr>\n",
              "<tr>\n",
              "     <td>B</td>      <td>E</td>    <td>-0.0831</td> <td>0.9998</td> <td>-1.4374</td> <td>1.2713</td>  <td>False</td>\n",
              "</tr>\n",
              "<tr>\n",
              "     <td>C</td>      <td>D</td>     <td>0.733</td>  <td>0.9003</td> <td>-1.5154</td> <td>2.9813</td>  <td>False</td>\n",
              "</tr>\n",
              "<tr>\n",
              "     <td>C</td>      <td>E</td>    <td>-0.6591</td> <td>0.4976</td> <td>-1.7847</td> <td>0.4665</td>  <td>False</td>\n",
              "</tr>\n",
              "<tr>\n",
              "     <td>D</td>      <td>E</td>    <td>-1.392</td>  <td>0.3899</td> <td>-3.5374</td> <td>0.7533</td>  <td>False</td>\n",
              "</tr>\n",
              "</table>"
            ],
            "text/latex": "\\begin{center}\n\\begin{tabular}{ccccccc}\n\\toprule\n\\textbf{group1} & \\textbf{group2} & \\textbf{meandiff} & \\textbf{p-adj} & \\textbf{lower} & \\textbf{upper} & \\textbf{reject}  \\\\\n\\midrule\n       A        &        B        &      -1.3353      &     0.5848     &    -3.8242     &     1.1535     &      False       \\\\\n       A        &        C        &      -0.7593      &     0.9062     &    -3.1315     &     1.6129     &      False       \\\\\n       A        &        D        &      -0.0264      &      1.0       &    -3.0202     &     2.9674     &      False       \\\\\n       A        &        E        &      -1.4184      &     0.4319     &    -3.6932     &     0.8564     &      False       \\\\\n       B        &        C        &       0.576       &     0.8362     &    -0.9362     &     2.0882     &      False       \\\\\n       B        &        D        &       1.309       &     0.5571     &    -1.0622     &     3.6801     &      False       \\\\\n       B        &        E        &      -0.0831      &     0.9998     &    -1.4374     &     1.2713     &      False       \\\\\n       C        &        D        &       0.733       &     0.9003     &    -1.5154     &     2.9813     &      False       \\\\\n       C        &        E        &      -0.6591      &     0.4976     &    -1.7847     &     0.4665     &      False       \\\\\n       D        &        E        &       -1.392      &     0.3899     &    -3.5374     &     0.7533     &      False       \\\\\n\\bottomrule\n\\end{tabular}\n%\\caption{Multiple Comparison of Means - Tukey HSD, FWER=0.05}\n\\end{center}"
          },
          "metadata": {},
          "execution_count": 8
        }
      ]
    },
    {
      "cell_type": "code",
      "source": [
        "#week1.csv 읽으셔서\n",
        "#datetime- >일별정보\n",
        "#passorfail에서 1로 필터링\n",
        "#모든 수치형 변수에 대해서 월별로 평균차이가 있는지 분산분석하세요.\n"
      ],
      "metadata": {
        "id": "LHCx8LPP3eXx"
      },
      "execution_count": null,
      "outputs": []
    },
    {
      "cell_type": "code",
      "source": [
        "data = pd.read_csv(\"https://raw.githubusercontent.com/ws-l/hh2025/main/data/week1.csv\")\n",
        "data[\"day\"] = pd.to_datetime(data.ReceivedDateTime).dt.day\n",
        "data = data.query(\"passorfail==1\")\n",
        "A = data.query(\"day==23\")\n",
        "B = data.query(\"day==24\")\n",
        "C = data.query(\"day==25\")\n",
        "for i in data.columns[2:42]:\n",
        "  print( stats.f_oneway( A[i].values, B[i].values, C[i].values) )"
      ],
      "metadata": {
        "id": "Fj2v0L2L_JNa"
      },
      "execution_count": null,
      "outputs": []
    },
    {
      "cell_type": "code",
      "source": [
        "data = pd.read_csv(\"https://raw.githubusercontent.com/ws-l/hh2025/main/data/creditset2.csv\")\n",
        "def func1(x):\n",
        "  if x<30:\n",
        "    return(\"<30\")\n",
        "  elif x<45:\n",
        "    return(\"<45\")\n",
        "  else:\n",
        "    return(\"45<=\")\n",
        "data[\"cat\"] = data.age.apply(func1)\n",
        "A = data.query(\"cat=='<30'\")\n",
        "B = data.query(\"cat=='<45'\")\n",
        "C = data.query(\"cat=='45<='\")\n",
        "stats.f_oneway(A.loan, B.loan, C.loan)\n",
        "tukey = pairwise_tukeyhsd(endog=data.loan, groups=data.cat, alpha=0.05)\n",
        "tukey.summary()"
      ],
      "metadata": {
        "id": "jSXtHH3A5RxN",
        "outputId": "9cc9207e-9264-4a45-bd7f-44c5a74521e7",
        "colab": {
          "base_uri": "https://localhost:8080/",
          "height": 122
        }
      },
      "execution_count": 14,
      "outputs": [
        {
          "output_type": "execute_result",
          "data": {
            "text/plain": [
              "<class 'statsmodels.iolib.table.SimpleTable'>"
            ],
            "text/html": [
              "<table class=\"simpletable\">\n",
              "<caption>Multiple Comparison of Means - Tukey HSD, FWER=0.05</caption>\n",
              "<tr>\n",
              "  <th>group1</th> <th>group2</th> <th>meandiff</th>   <th>p-adj</th>   <th>lower</th>     <th>upper</th>  <th>reject</th>\n",
              "</tr>\n",
              "<tr>\n",
              "   <td>45<=</td>    <td><30</td>  <td>-19.3868</td>  <td>0.9927</td> <td>-413.3751</td> <td>374.6015</td>  <td>False</td>\n",
              "</tr>\n",
              "<tr>\n",
              "   <td>45<=</td>    <td><45</td>  <td>-221.1453</td>  <td>0.356</td> <td>-599.2837</td> <td>156.9931</td>  <td>False</td>\n",
              "</tr>\n",
              "<tr>\n",
              "    <td><30</td>    <td><45</td>  <td>-201.7585</td> <td>0.4969</td> <td>-621.3035</td> <td>217.7865</td>  <td>False</td>\n",
              "</tr>\n",
              "</table>"
            ],
            "text/latex": "\\begin{center}\n\\begin{tabular}{ccccccc}\n\\toprule\n\\textbf{group1} & \\textbf{group2} & \\textbf{meandiff} & \\textbf{p-adj} & \\textbf{lower} & \\textbf{upper} & \\textbf{reject}  \\\\\n\\midrule\n      45<=      &       <30       &      -19.3868     &     0.9927     &   -413.3751    &    374.6015    &      False       \\\\\n      45<=      &       <45       &     -221.1453     &     0.356      &   -599.2837    &    156.9931    &      False       \\\\\n      <30       &       <45       &     -201.7585     &     0.4969     &   -621.3035    &    217.7865    &      False       \\\\\n\\bottomrule\n\\end{tabular}\n%\\caption{Multiple Comparison of Means - Tukey HSD, FWER=0.05}\n\\end{center}"
          },
          "metadata": {},
          "execution_count": 14
        }
      ]
    },
    {
      "cell_type": "markdown",
      "source": [
        "- 이원 분산분석"
      ],
      "metadata": {
        "id": "pnZqv10OYSJE"
      }
    },
    {
      "cell_type": "code",
      "source": [
        "import statsmodels.api as sm\n",
        "import statsmodels.formula.api as smf\n",
        "import pandas as pd\n",
        "\n",
        "pd.options.display.float_format = '{:,.2f}'.format\n",
        "\n",
        "# diamonds 데이터셋 불러오기\n",
        "df = sm.datasets.get_rdataset(\"diamonds\", \"ggplot2\").data\n",
        "\n",
        "# 데이터 확인\n",
        "print(df.head())\n",
        "print(df['cut'].value_counts())"
      ],
      "metadata": {
        "colab": {
          "base_uri": "https://localhost:8080/"
        },
        "id": "N4pDv8yyaI25",
        "outputId": "a8f5b5a6-255c-427e-a788-c5d0bdaa1285"
      },
      "execution_count": 29,
      "outputs": [
        {
          "output_type": "stream",
          "name": "stdout",
          "text": [
            "   carat      cut color clarity  depth  table  price    x    y    z\n",
            "0   0.23    Ideal     E     SI2  61.50  55.00    326 3.95 3.98 2.43\n",
            "1   0.21  Premium     E     SI1  59.80  61.00    326 3.89 3.84 2.31\n",
            "2   0.23     Good     E     VS1  56.90  65.00    327 4.05 4.07 2.31\n",
            "3   0.29  Premium     I     VS2  62.40  58.00    334 4.20 4.23 2.63\n",
            "4   0.31     Good     J     SI2  63.30  58.00    335 4.34 4.35 2.75\n",
            "cut\n",
            "Ideal        21551\n",
            "Premium      13791\n",
            "Very Good    12082\n",
            "Good          4906\n",
            "Fair          1610\n",
            "Name: count, dtype: int64\n"
          ]
        }
      ]
    },
    {
      "cell_type": "code",
      "source": [
        "df.head()"
      ],
      "metadata": {
        "id": "dOclI_WVb6oS"
      },
      "execution_count": null,
      "outputs": []
    },
    {
      "cell_type": "code",
      "source": [
        "# 모델 적합: 두 요인과 상호작용 포함\n",
        "model = smf.ols('price ~ cut + clarity', data=df).fit()\n",
        "anova_table = sm.stats.anova_lm(model, typ=2)\n",
        "#print(model.summary())\n",
        "print(anova_table)"
      ],
      "metadata": {
        "colab": {
          "base_uri": "https://localhost:8080/"
        },
        "id": "TFHnqqBPaRkg",
        "outputId": "5aa966a8-9f5b-43aa-bbc3-b57fea3e0647"
      },
      "execution_count": 35,
      "outputs": [
        {
          "output_type": "stream",
          "name": "stdout",
          "text": [
            "                     sum_sq        df      F  PR(>F)\n",
            "cut        6,643,753,803.26      4.00 108.11    0.00\n",
            "clarity   18,909,811,326.11      7.00 175.83    0.00\n",
            "Residual 828,521,578,832.63 53,928.00    NaN     NaN\n"
          ]
        }
      ]
    },
    {
      "cell_type": "markdown",
      "source": [
        "#2. 실습\n",
        "- 4:48까지 해보세요~"
      ],
      "metadata": {
        "id": "k1tN4K13RpzB"
      }
    },
    {
      "cell_type": "markdown",
      "source": [
        "- https://www.kamp-ai.kr/aidataList의 CNC 데이터 혹은 github의 Dataset_CNC를 다운로드\n",
        "- 원본 데이터의 실험별 csv를 하나의 데이터프레임으로 읽기:\n",
        " - pd.concat( [ 데이터프레임1, 데이터프레임2], ignore_index=True  )\n",
        "- 실험차수별로 y_output에 대한 일원분산분석 + 해석\n",
        "- 실험차수별+단계별 y_output에 대한 이원분산분석 +해석\n"
      ],
      "metadata": {
        "id": "gcXlRuTARw5O"
      }
    },
    {
      "cell_type": "code",
      "source": [
        "!wget https://raw.githubusercontent.com/ws-l/hh2025/main/data/Dataset_CNC.zip"
      ],
      "metadata": {
        "id": "xIPfDTzrRrPE"
      },
      "execution_count": null,
      "outputs": []
    },
    {
      "cell_type": "code",
      "source": [
        "!unzip Dataset_CNC.zip"
      ],
      "metadata": {
        "id": "6OaT-OjWgOAg"
      },
      "execution_count": null,
      "outputs": []
    },
    {
      "cell_type": "code",
      "source": [
        "import os\n",
        "files = os.listdir(\"dataset/1/2\")\n",
        "result=pd.DataFrame()\n",
        "for i in files:\n",
        "  tmpdf = pd.read_csv(\"dataset/1/2/\"+i)\n",
        "  tmpdf[\"exp\"]=i.split(\".\")[0]\n",
        "  result = pd.concat([result, tmpdf], ignore_index=True)"
      ],
      "metadata": {
        "id": "8aK2vTeSgdDc"
      },
      "execution_count": null,
      "outputs": []
    }
  ]
}