{
  "nbformat": 4,
  "nbformat_minor": 0,
  "metadata": {
    "colab": {
      "provenance": []
    },
    "kernelspec": {
      "name": "python3",
      "display_name": "Python 3"
    },
    "language_info": {
      "name": "python"
    }
  },
  "cells": [
    {
      "cell_type": "markdown",
      "source": [
        "- week1.csv를 읽기\n",
        " - 컬럼별 확인: 수치형, 범주형 나눠서 데이터프레임 생성\n",
        " - 결측치 확인\n",
        " - serial no로 인덱스 지정\n",
        "\n",
        " - passorfail 확인\n",
        " - passorfail의 1인 경우의 변수 특징, 0인 경우의 변수 특징\n",
        "\n",
        " - SpindleSpeed, ServoCurrent_X~Z3의 평균, ServoLoad_X-Z3, SpindleLoad의 평균 출력\n",
        " - SpindleSpeed가 컬럼 평균보다 크면 1, 아니면 0이 되도록 apply와 함수 적용\n",
        " - 월별 SpindleSpeed, ServoCurrent_X-Z3의 평균, ServoLoad_X-Z3, SpindleLoad의 평균\n",
        "\n",
        " - ReceivedDateTime을 datetime으로 변환\n",
        " - 요일별/시간대별 SpindleLoad 평균값 테이블\n",
        " - 요일별 SpindleLoad평균이 큰 3개 행 출력"
      ],
      "metadata": {
        "id": "UItwThtVF0Xy"
      }
    },
    {
      "cell_type": "code",
      "execution_count": null,
      "metadata": {
        "id": "r_pwppEmvbgn"
      },
      "outputs": [],
      "source": [
        "import pandas as pd\n",
        "data = pd.read_csv(\"https://raw.githubusercontent.com/ws-l/hh2025/main/data/week1.csv\")\n",
        "data.head()"
      ]
    },
    {
      "cell_type": "code",
      "source": [
        "data.select_dtypes(exclude=\"object\")\n",
        "data.isnull().mean()\n",
        "data.index=data.SerialNo\n",
        "data.passorfail.value_counts()\n",
        "data.query(\"passorfail==1\").describe()\n",
        "data.describe().T"
      ],
      "metadata": {
        "id": "-aRqJJz2F_It",
        "collapsed": true
      },
      "execution_count": null,
      "outputs": []
    },
    {
      "cell_type": "code",
      "source": [
        "avg = data.SpindleSpeed_mean.mean()\n",
        "def func1(x):\n",
        "  if x > avg:\n",
        "    return 1\n",
        "  else:\n",
        "    return 0\n",
        "data.SpindleSpeed_mean.apply(func1)\n",
        "data[\"date\"] = pd.to_datetime(data[\"ReceivedDateTime\"])\n",
        "data[\"month\"] = data.date.dt.month\n",
        "data.groupby(\"month\")[\"SpindleSpeed_mean\"].mean()\n",
        "\n",
        "data[\"dayofweek\"] = data.date.dt.dayofweek\n",
        "data[\"hour\"] = data.date.dt.hour\n",
        "data.pivot_table( index=\"dayofweek\", columns=\"hour\", values=\"SpindleSpeed_mean\")\n"
      ],
      "metadata": {
        "id": "PnTvxPSBaGnA"
      },
      "execution_count": null,
      "outputs": []
    }
  ]
}