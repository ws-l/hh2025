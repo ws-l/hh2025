{
  "nbformat": 4,
  "nbformat_minor": 0,
  "metadata": {
    "colab": {
      "provenance": []
    },
    "kernelspec": {
      "name": "python3",
      "display_name": "Python 3"
    },
    "language_info": {
      "name": "python"
    }
  },
  "cells": [
    {
      "cell_type": "markdown",
      "source": [
        "# 1일차 학습 목표\n",
        "- 파이썬 기본 자료구조\n",
        "- 기본 문법\n",
        "- 패키지 활용\n",
        "- numpy, pandas 자료구조\n",
        "- 데이터 처리 연습습"
      ],
      "metadata": {
        "id": "EC4jfUUI8vFa"
      }
    },
    {
      "cell_type": "markdown",
      "source": [
        "#1. 기본 자료구조"
      ],
      "metadata": {
        "id": "I0YwBPnl4kKR"
      }
    },
    {
      "cell_type": "code",
      "execution_count": null,
      "metadata": {
        "id": "DXMrz8wqjsmG"
      },
      "outputs": [],
      "source": [
        "list1 = [ 20,10,5]  #리스트\n",
        "#실행: 플레이버튼, 또는  ctrl+enter\n",
        "print( list1 )\n",
        "list1[ 1 ]#인덱싱\n",
        "list1[ 1:3 ] #슬라이싱\n",
        "list1[ 2 ] = 40\n",
        "list1[ 0 ] = \"data\"\n",
        "list1.append( 1000000000 )\n",
        "list1.append( list1 )"
      ]
    },
    {
      "cell_type": "code",
      "source": [
        "tuple1 = ( 10,20,5 )\n",
        "tuple1[1] = 40  #tuple의 값은은 수정 불가"
      ],
      "metadata": {
        "id": "qw9YDsUGlB4s"
      },
      "execution_count": null,
      "outputs": []
    },
    {
      "cell_type": "code",
      "source": [
        "set1 = { 10,20, 5}\n",
        "#set1[ 1 ]#인덱싱 불가\n",
        "dict1 = {  'a':10,  'b':20,  'c':5}\n",
        "dict1 #key-value\n",
        "dict1['a']"
      ],
      "metadata": {
        "colab": {
          "base_uri": "https://localhost:8080/"
        },
        "id": "Ne_x9Xohq5iK",
        "outputId": "409bd50c-57d5-4b27-c44a-b3fb0b5c50f3"
      },
      "execution_count": null,
      "outputs": [
        {
          "output_type": "execute_result",
          "data": {
            "text/plain": [
              "10"
            ]
          },
          "metadata": {},
          "execution_count": 26
        }
      ]
    },
    {
      "cell_type": "code",
      "source": [
        "list3 = [ 3, 2.1, \"A\", 10]\n",
        "list3[ 1:3 ]\n",
        "list3[  2 ] = 100\n",
        "list3.append( 99 )\n",
        "list3"
      ],
      "metadata": {
        "colab": {
          "base_uri": "https://localhost:8080/"
        },
        "id": "YXieC5ditC9G",
        "outputId": "3290624d-8aba-4b2b-d5d8-680502d7be3c"
      },
      "execution_count": null,
      "outputs": [
        {
          "output_type": "execute_result",
          "data": {
            "text/plain": [
              "[3, 2.1, 100, 10, 99]"
            ]
          },
          "metadata": {},
          "execution_count": 29
        }
      ]
    },
    {
      "cell_type": "code",
      "source": [
        "list4 = [1,2,3]\n",
        "list5 = [ [1,2], [3,4]    ]\n",
        "list5"
      ],
      "metadata": {
        "id": "KSVVmkmDtnAd"
      },
      "execution_count": null,
      "outputs": []
    },
    {
      "cell_type": "code",
      "source": [
        "dict2 = {'A':[1,2,3]  , 'B':[4,5,6] }\n",
        "dict2"
      ],
      "metadata": {
        "id": "j2PrgBiGvG-r"
      },
      "execution_count": null,
      "outputs": []
    },
    {
      "cell_type": "code",
      "source": [
        "list6 = [] \n",
        "list6.append( dict2 )\n",
        "list6"
      ],
      "metadata": {
        "colab": {
          "base_uri": "https://localhost:8080/"
        },
        "id": "CzgnVY8YvjP8",
        "outputId": "65a89335-0764-45c2-9a9c-65e42eb18af2"
      },
      "execution_count": null,
      "outputs": [
        {
          "output_type": "execute_result",
          "data": {
            "text/plain": [
              "[{'A': [1, 2, 3], 'B': [4, 5, 6]}]"
            ]
          },
          "metadata": {},
          "execution_count": 38
        }
      ]
    },
    {
      "cell_type": "markdown",
      "source": [
        "#2. 조건문, 반복문, 예외처리 "
      ],
      "metadata": {
        "id": "9veJLa-14pfc"
      }
    },
    {
      "cell_type": "code",
      "execution_count": null,
      "metadata": {
        "colab": {
          "base_uri": "https://localhost:8080/"
        },
        "id": "fMRWRNfDtAuT",
        "outputId": "43f4d87e-7ed5-4f5b-ffcc-feb2a4296b9b"
      },
      "outputs": [
        {
          "output_type": "execute_result",
          "data": {
            "text/plain": [
              "True"
            ]
          },
          "metadata": {},
          "execution_count": 3
        }
      ],
      "source": [
        "a = 90\n",
        "a > 70"
      ]
    },
    {
      "cell_type": "code",
      "source": [
        "if a > 70 :\n",
        "  print(\"탕수육\")"
      ],
      "metadata": {
        "colab": {
          "base_uri": "https://localhost:8080/"
        },
        "id": "v1kzWKqZvrIW",
        "outputId": "6e14b348-5dea-4142-b5c9-0325b3005109"
      },
      "execution_count": null,
      "outputs": [
        {
          "output_type": "stream",
          "name": "stdout",
          "text": [
            "탕수육\n"
          ]
        }
      ]
    },
    {
      "cell_type": "code",
      "source": [
        "b=65\n",
        "if b < 90 :\n",
        "  if b <70:\n",
        "    print(\"small\")\n",
        "  else:\n",
        "    print(\"중간\")\n",
        "else:\n",
        "  print(\"big\")"
      ],
      "metadata": {
        "colab": {
          "base_uri": "https://localhost:8080/"
        },
        "id": "PifWpQzjwORl",
        "outputId": "2019f23c-fe30-41f7-f746-847ec9b915cd"
      },
      "execution_count": null,
      "outputs": [
        {
          "output_type": "stream",
          "name": "stdout",
          "text": [
            "small\n"
          ]
        }
      ]
    },
    {
      "cell_type": "code",
      "source": [
        "c=91\n",
        "d=50\n",
        "if (c > 90) | (d > 90):\n",
        "  print(\"pizza\")"
      ],
      "metadata": {
        "colab": {
          "base_uri": "https://localhost:8080/"
        },
        "id": "DglZE1gm0n8d",
        "outputId": "754afbdc-a86a-487a-aacf-a74d3f24f10a"
      },
      "execution_count": null,
      "outputs": [
        {
          "output_type": "stream",
          "name": "stdout",
          "text": [
            "pizza\n"
          ]
        }
      ]
    },
    {
      "cell_type": "code",
      "source": [
        "sales = [1,2,3,4,5]\n",
        "for i in sales:\n",
        " if i > 3 :\n",
        "  print(i)\n",
        "\n",
        "# sales2 = [ 10, 7, 12, 5, 19, 6] 일때, sales2의 각 값이 10보다 작으면\n",
        "# 2배해서 출력하고, 그렇지 않으면 그냥 출력하세요\n",
        "sales2 = [ 10, 7, 12, 5, 19, 6]\n",
        "for i in sales2:\n",
        "  if i > 10:\n",
        "    print(i*2)\n",
        "  else:\n",
        "    print(i)\n",
        "\n",
        "#sales2의 값에다가 모두 2를 곱해서 출력하기\n",
        "#방법1\n",
        "for i in sales2:\n",
        "  print( i*2 )\n",
        "#방법2\n",
        "[ i*2 for i in sales2   ]\n",
        "\n",
        "#반복문+조건문 다르게 표현현\n",
        "[ i*2 for i in sales2 if i >3  ]\n",
        "\n",
        "# sales3 = [ 10, 11, 8, 9, 12]\n",
        "# sales3의 값 중에서 10보다 작은 숫자들만 선택을해서,\n",
        "# 5를 더해서 리스트로 만드세요\n",
        "sales3 = [ 10, 11, 8, 9, 12]\n",
        "[ i+5 for i in sales3 if i < 10  ]\n",
        "#위와 같은 작업을 하는 ....\n",
        "result = []\n",
        "for i in sales3:\n",
        "  if i < 10:\n",
        "    result.append(i+5)"
      ],
      "metadata": {
        "id": "cOV0hL-o23SK"
      },
      "execution_count": null,
      "outputs": []
    },
    {
      "cell_type": "code",
      "execution_count": null,
      "metadata": {
        "colab": {
          "base_uri": "https://localhost:8080/"
        },
        "id": "QTuuNSaT4Veh",
        "outputId": "685777bc-0e85-4301-c333-fb926f1a2e60"
      },
      "outputs": [
        {
          "output_type": "stream",
          "name": "stdout",
          "text": [
            "1.0\n",
            "0.5\n",
            "0.3333333333333333\n",
            "0.25\n"
          ]
        }
      ],
      "source": [
        "list1 = [1.0,2.0,0.0,3.0,4.0]\n",
        "for i in list1:\n",
        "  try:\n",
        "    print( 1/i)\n",
        "  except:\n",
        "    pass    #print(\"error\")"
      ]
    },
    {
      "cell_type": "markdown",
      "source": [
        "#3. numpy의 array "
      ],
      "metadata": {
        "id": "8NZeMOw147AH"
      }
    },
    {
      "cell_type": "code",
      "source": [
        "import numpy as np\n",
        "ar1 = np.array( [1,2,3])\n",
        "ar1*ar1 #행렬 계산 아님\n",
        "np.matmul( ar1, ar1) #행렬 계산...\n",
        "ar2 = np.array( [[1,2],[3,4]] )\n",
        "ar2.shape\n",
        "ar1.shape\n",
        "ar3 = np.array(  [[[1,2],[3,4]],[[5,6],[7,8]]])\n",
        "ar3.shape"
      ],
      "metadata": {
        "colab": {
          "base_uri": "https://localhost:8080/"
        },
        "id": "6wZxMvVQ7MaY",
        "outputId": "74ad3c12-16ef-427a-ba69-dca3287de9b7"
      },
      "execution_count": null,
      "outputs": [
        {
          "output_type": "execute_result",
          "data": {
            "text/plain": [
              "(2, 2, 2)"
            ]
          },
          "metadata": {},
          "execution_count": 17
        }
      ]
    },
    {
      "cell_type": "markdown",
      "source": [
        "- array생성 및 차원 확인"
      ],
      "metadata": {
        "id": "JFDAUxXFaZ5y"
      }
    },
    {
      "cell_type": "code",
      "execution_count": null,
      "metadata": {
        "colab": {
          "base_uri": "https://localhost:8080/"
        },
        "id": "mNOQ6If1ZXzP",
        "outputId": "0c2c9023-9ddc-4b57-cdc9-72dc2acb6d95"
      },
      "outputs": [
        {
          "output_type": "execute_result",
          "data": {
            "text/plain": [
              "array([0., 1., 2., 3., 4., 5.])"
            ]
          },
          "metadata": {},
          "execution_count": 15
        }
      ],
      "source": [
        "import numpy as np\n",
        "a = np.array( [0,1,2,3,4, 5.0])\n",
        "a.shape #차원, 값의 개수\n",
        "a.ndim\n",
        "a.dtype #값의 종류, array->단일한 type의 값, 정수와 실수->실수 "
      ]
    },
    {
      "cell_type": "code",
      "source": [
        "a.reshape( (3,2)  ) #a가 변경되지는 않음"
      ],
      "metadata": {
        "colab": {
          "base_uri": "https://localhost:8080/"
        },
        "id": "5i5lHU-PskiX",
        "outputId": "ed3ec6bb-cbe9-402e-bed1-f9ec37233a3a"
      },
      "execution_count": null,
      "outputs": [
        {
          "output_type": "execute_result",
          "data": {
            "text/plain": [
              "array([0., 1., 2., 3., 4., 5.])"
            ]
          },
          "metadata": {},
          "execution_count": 23
        }
      ]
    },
    {
      "cell_type": "code",
      "source": [
        "b = a.reshape((3,2))\n",
        "print(b)\n",
        "b.ndim\n",
        "b.shape"
      ],
      "metadata": {
        "id": "wTFWXP-Eak-B"
      },
      "execution_count": null,
      "outputs": []
    },
    {
      "cell_type": "code",
      "source": [
        "b.reshape( (6, )) #2->1D로 변경"
      ],
      "metadata": {
        "colab": {
          "base_uri": "https://localhost:8080/"
        },
        "id": "nf6IqLDktv-I",
        "outputId": "dae56ba0-7749-4460-a48b-b73012a0b796"
      },
      "execution_count": null,
      "outputs": [
        {
          "output_type": "execute_result",
          "data": {
            "text/plain": [
              "array([0., 1., 2., 3., 4., 5.])"
            ]
          },
          "metadata": {},
          "execution_count": 27
        }
      ]
    },
    {
      "cell_type": "markdown",
      "source": [
        "- array 연산과 인덱싱"
      ],
      "metadata": {
        "id": "YNugRnswaj5f"
      }
    },
    {
      "cell_type": "code",
      "source": [
        "a[ [0,2,3] ]\n",
        "b[  1  , 1     ]\n",
        "b[ [0,2], 1]\n",
        "b[ 0:2, 0]\n",
        "b[ : , 0]  #1열만\n",
        "b[  1 ,  :  ] #2행만"
      ],
      "metadata": {
        "colab": {
          "base_uri": "https://localhost:8080/"
        },
        "id": "hljstZ5jukVV",
        "outputId": "b7dc72d4-0461-4761-e05e-13f834e09c9b"
      },
      "execution_count": null,
      "outputs": [
        {
          "output_type": "execute_result",
          "data": {
            "text/plain": [
              "array([2., 3.])"
            ]
          },
          "metadata": {},
          "execution_count": 45
        }
      ]
    },
    {
      "cell_type": "code",
      "source": [
        "a > 3 \n",
        "a[  [False, False, False, False,  True,  True] ]\n",
        "\n",
        "a[   a>3   ] #3보다 큰 값만 출력\n",
        "a[   a == 4 ]\n",
        "\n",
        "print(b)\n",
        "b[ b[:,1] >  3   ,  1 ] #2열의 값중에서 3보다 큰 값만 출력\n",
        "\n",
        "#1열의 값 중에서 2이하인 값만 출력하고 10을 곱하세요\n",
        "b[ b[:,0] <= 2,   0 ] * 10\n"
      ],
      "metadata": {
        "colab": {
          "base_uri": "https://localhost:8080/"
        },
        "id": "s1bnLemJzrlk",
        "outputId": "00300c63-1daf-42e3-e47d-6d789ae70688"
      },
      "execution_count": null,
      "outputs": [
        {
          "output_type": "stream",
          "name": "stdout",
          "text": [
            "[[0. 1.]\n",
            " [2. 3.]\n",
            " [4. 5.]]\n"
          ]
        },
        {
          "output_type": "execute_result",
          "data": {
            "text/plain": [
              "array([ 0., 20.])"
            ]
          },
          "metadata": {},
          "execution_count": 62
        }
      ]
    },
    {
      "cell_type": "code",
      "source": [
        "#array 연산/인덱싱\n",
        "a*2\n",
        "a**2\n",
        "\n",
        "[1,2,3,4,5]*2\t#리스트와는 다름\n",
        "\n",
        "#기본 인덱싱\n",
        "a[ [2,3,4] ]\n",
        "a[ np.array( [2,3,4]) ]\t#인덱싱에 배열도 사용 가능\n",
        "\n",
        "#논리 연산\n",
        "a>4\n",
        "a[ a>4 ]\n",
        "a[ a>4 ] = 4\n",
        "\n"
      ],
      "metadata": {
        "id": "y5Qn5dttaj_w"
      },
      "execution_count": null,
      "outputs": []
    },
    {
      "cell_type": "markdown",
      "source": [
        "- 기본 활용 연습"
      ],
      "metadata": {
        "id": "d4DW53xEax9h"
      }
    },
    {
      "cell_type": "code",
      "source": [
        "x = [0.0, 1, 2, 3, 4]\n",
        "y = np.array(x)\n",
        "y = np.array([[0.0, 1, 2, 3, 4], [5, 6, 7, 8, 9]])\n",
        "np.shape(y)\n",
        "y = np.array([[[1,2],[3,4]],[[5,6],[7,8]]])\n",
        "np.shape(y)\n",
        "\n",
        "x = [0, 1, 2, 3, 4] # Integers\n",
        "y = np.array(x)\n",
        "y.dtype\n",
        "\n",
        "x = [0.0, 1, 2, 3, 4] # 0.0 is a float\n",
        "y = np.array(x)\n",
        "y.dtype\n",
        "\n",
        "x = [0.0, 1, 2, 3, 4] # 하나라도 float이면 전체가 float임\n",
        "y = np.array(x)\n",
        "type(y)\n",
        "y * y # Elementbyelement\n",
        "\n"
      ],
      "metadata": {
        "colab": {
          "base_uri": "https://localhost:8080/"
        },
        "id": "zlJ8IOitayD5",
        "outputId": "8526f838-8f54-42de-9d23-313b0524d292"
      },
      "execution_count": null,
      "outputs": [
        {
          "output_type": "execute_result",
          "data": {
            "text/plain": [
              "array([ 0.,  1.,  4.,  9., 16.])"
            ]
          },
          "metadata": {},
          "execution_count": 4
        }
      ]
    },
    {
      "cell_type": "markdown",
      "source": [
        "- 기본활용연습2: for 활용"
      ],
      "metadata": {
        "id": "IsJNVIXUa40Y"
      }
    },
    {
      "cell_type": "code",
      "source": [
        "#array + for 같이 사용\n",
        "a = np.array([[1, 2], [3, 4], [5, 6]], float) \n",
        "for x in a: \n",
        "    print(x)\n",
        "\n",
        "#array 값 접근하기\n",
        "x = np.array([1.0,2.0,3.0,4.0,5.0])\n",
        "x[0]\n",
        "\n",
        "x = np.array([[1.0,2,3],[4,5,6]])\n",
        "x[1,2]\n"
      ],
      "metadata": {
        "colab": {
          "base_uri": "https://localhost:8080/"
        },
        "id": "e7yPs6bsa49R",
        "outputId": "eb15f1ed-9f44-4814-cfab-a511a020c60b"
      },
      "execution_count": null,
      "outputs": [
        {
          "output_type": "stream",
          "name": "stdout",
          "text": [
            "[1. 2.]\n",
            "[3. 4.]\n",
            "[5. 6.]\n"
          ]
        },
        {
          "output_type": "execute_result",
          "data": {
            "text/plain": [
              "6.0"
            ]
          },
          "metadata": {},
          "execution_count": 5
        }
      ]
    },
    {
      "cell_type": "markdown",
      "source": [
        "- 인덱싱, 슬라이싱"
      ],
      "metadata": {
        "id": "hyhVhtXgbBOf"
      }
    },
    {
      "cell_type": "code",
      "source": [
        "#슬라이싱\n",
        "arr = np.arange(10, dtype=float).reshape((2, 5))\n",
        "arr[0] # 0번째 원소\n",
        "arr[0, 3] # 0행 3열\n",
        "arr[0][3] # 0행3열\n",
        "\n",
        "arr[0, :] # 0행, 1차원 배열\n",
        "arr[:, 0] # 0열, 1차원 배열\n",
        "arr[:, :2] # 첫 2개 열\n",
        "arr[:, 2:] # 2 위치 이후 열\n",
        "arr2 = arr[:, 1:4] # 위치1 과 위치4 사이 열\n",
        "print(arr2)\n",
        "\n",
        "#슬라이싱2\n",
        "arr2 = arr[:, [1,2,3]] # arr 배열의 복사본\n",
        "print(arr2)\n",
        "arr2[0, 0] = 44\n",
        "print(arr2)\n",
        "print(arr)\n",
        "arr2 = arr[arr > 5] # arr 배열의 복사본\n",
        "print(arr2)\n",
        "arr2[0] = 44\n",
        "print(arr2)\n",
        "print(arr)\n",
        "\n",
        "arr[arr > 5] = 0\n",
        "print(arr)\n",
        "\n"
      ],
      "metadata": {
        "colab": {
          "base_uri": "https://localhost:8080/"
        },
        "id": "ATKmfJOUbBUw",
        "outputId": "1f2f06f8-f690-4ac6-8be2-ac20f04eb8fe"
      },
      "execution_count": null,
      "outputs": [
        {
          "output_type": "stream",
          "name": "stdout",
          "text": [
            "[[1. 2. 3.]\n",
            " [6. 7. 8.]]\n",
            "[[1. 2. 3.]\n",
            " [6. 7. 8.]]\n",
            "[[44.  2.  3.]\n",
            " [ 6.  7.  8.]]\n",
            "[[0. 1. 2. 3. 4.]\n",
            " [5. 6. 7. 8. 9.]]\n",
            "[6. 7. 8. 9.]\n",
            "[44.  7.  8.  9.]\n",
            "[[0. 1. 2. 3. 4.]\n",
            " [5. 6. 7. 8. 9.]]\n",
            "[[0. 1. 2. 3. 4.]\n",
            " [5. 0. 0. 0. 0.]]\n"
          ]
        }
      ]
    },
    {
      "cell_type": "markdown",
      "source": [
        "- numpy 활용 통계량 계산"
      ],
      "metadata": {
        "id": "x9k0YT3RbGMB"
      }
    },
    {
      "cell_type": "code",
      "source": [
        "x = np.arange(10.0)\t#0~9까지 10개 숫자를 갖는 자료구조 생성\n",
        "x.mean()\n",
        "\n",
        "np.mean(x)\n",
        "x= np.reshape(np.arange(20.0),(4,5))\n",
        "np.mean(x,0)\n",
        "\n",
        "np.median(x)\n",
        "\n",
        "np.std(x)\n",
        "np.var(x)"
      ],
      "metadata": {
        "colab": {
          "base_uri": "https://localhost:8080/"
        },
        "id": "IIS6bQ7pbGRx",
        "outputId": "83ae3983-8720-4538-b4ef-048be3e2554e"
      },
      "execution_count": null,
      "outputs": [
        {
          "output_type": "execute_result",
          "data": {
            "text/plain": [
              "33.25"
            ]
          },
          "metadata": {},
          "execution_count": 7
        }
      ]
    },
    {
      "cell_type": "markdown",
      "source": [
        "- NaN 값의 처리"
      ],
      "metadata": {
        "id": "0POFAVYwaTFL"
      }
    },
    {
      "cell_type": "code",
      "source": [
        "import numpy as np\n",
        "np.array( [ 1,2,np.NAN,4])\n",
        "np.NAN # not a number"
      ],
      "metadata": {
        "colab": {
          "base_uri": "https://localhost:8080/"
        },
        "id": "cNAk2Da50ppZ",
        "outputId": "8b13751a-1ba0-4ee2-d701-46779e800394"
      },
      "execution_count": null,
      "outputs": [
        {
          "output_type": "execute_result",
          "data": {
            "text/plain": [
              "array([ 1.,  2., nan,  4.])"
            ]
          },
          "metadata": {},
          "execution_count": 3
        }
      ]
    },
    {
      "cell_type": "code",
      "source": [
        "#numpy.NAN:  숫자로 표현안되는 값\n",
        "c = np.array( [1,2,np.NAN, 3,4])\n",
        "c[  ~np.isnan(c) ]"
      ],
      "metadata": {
        "colab": {
          "base_uri": "https://localhost:8080/"
        },
        "id": "DrtUASS32n1q",
        "outputId": "2e484b05-8915-4f1b-9aaf-ad03afc21998"
      },
      "execution_count": null,
      "outputs": [
        {
          "output_type": "execute_result",
          "data": {
            "text/plain": [
              "array([1., 2., 3., 4.])"
            ]
          },
          "metadata": {},
          "execution_count": 12
        }
      ]
    },
    {
      "cell_type": "code",
      "source": [
        "#numpy.NAN:  숫자로 표현안되는 값\n",
        "c = np.array( [1,2,np.NAN, 3,4])\n",
        "np.isnan(c)\n",
        "c[ ~np.isnan(c) ]\n",
        "\n",
        "np.mean( c[~np.isnan(c) ])\n",
        "\n",
        "#NaN 함수\n",
        "x = np.random.randn(4)\n",
        "x[1] = np.NaN\n",
        "sum(x)\n",
        "np.nansum(x)\n",
        "sum(x[np.logical_not(np.isnan(x))])\n",
        "np.nansum(x) / sum(np.isnan(x))\n",
        "\n"
      ],
      "metadata": {
        "colab": {
          "base_uri": "https://localhost:8080/"
        },
        "id": "MQqNQhUOaTRz",
        "outputId": "dd022025-a92f-48fe-a7fe-33a882e1b330"
      },
      "execution_count": null,
      "outputs": [
        {
          "output_type": "execute_result",
          "data": {
            "text/plain": [
              "-1.3121040542561104"
            ]
          },
          "metadata": {},
          "execution_count": 8
        }
      ]
    },
    {
      "cell_type": "markdown",
      "source": [
        "- 그 외 유용한 기능"
      ],
      "metadata": {
        "id": "2D39eSe1bVBi"
      }
    },
    {
      "cell_type": "code",
      "source": [
        "#max, amax, argmax, min, amin, argmin\n",
        "x = np.random.randn(3,4)\n",
        "np.amax(x)\n",
        "x.max()\n",
        "x.max(0)\t#column별 계산\n",
        "x.max(1) #row별 계산\n",
        "\n",
        "data = np.genfromtxt('creditset2.csv',delimiter=',', skip_header=1)\n",
        "np.mean(data,0)\t#column방향\n",
        "np.median(data, 0)\n",
        "np.var(data, 0)\n",
        "np.std(data, 0)"
      ],
      "metadata": {
        "colab": {
          "base_uri": "https://localhost:8080/"
        },
        "id": "H5COkxhsbVHo",
        "outputId": "e4d76f9c-ffd7-44fd-ac98-23942ed391d3"
      },
      "execution_count": null,
      "outputs": [
        {
          "output_type": "execute_result",
          "data": {
            "text/plain": [
              "array([1.43227451e+04, 1.32591337e+01, 3.04464858e+03, 3.48536583e-01])"
            ]
          },
          "metadata": {},
          "execution_count": 9
        }
      ]
    },
    {
      "cell_type": "markdown",
      "source": [
        "#4. pandas의 dataframe "
      ],
      "metadata": {
        "id": "x2OZGb2I6jpC"
      }
    },
    {
      "cell_type": "code",
      "execution_count": null,
      "metadata": {
        "id": "-nbXXQm37Zp6"
      },
      "outputs": [],
      "source": [
        "import pandas as pd\n",
        "import numpy as np\n",
        "s1 = pd.Series( [1,2,3], index=[\"r1\",\"r2\",\"r3\"]   )\n",
        "s1.index\n",
        "s1.values\n",
        "s2 = pd.Series( [1,2,3], index=[\"r3\",\"r2\",\"r1\"]   )\n",
        "s1+s2\n",
        "\n",
        "df1=pd.DataFrame([[1,2],[3,4]],index=[\"r1\",\"r2\"],columns=[\"c1\",\"c2\"] )\n",
        "df1.index # df1.columns #df1.values\n",
        "#df1.info()\n",
        "df1.describe()\n",
        "df2=pd.DataFrame([[1,2], [3,4]],index=[\"r3\",\"r2\"],columns=[\"c3\",\"c2\"])\n",
        "df1+df2\n",
        "df1.columns=[\"c3\", \"c2\"]\n"
      ]
    },
    {
      "cell_type": "code",
      "execution_count": null,
      "metadata": {
        "colab": {
          "base_uri": "https://localhost:8080/"
        },
        "id": "j2rw5_NQzVdu",
        "outputId": "22dbcaeb-94c5-4e93-bcc7-11411b726456"
      },
      "outputs": [
        {
          "output_type": "execute_result",
          "data": {
            "text/plain": [
              "0       2.3895\n",
              "1       2.3754\n",
              "2       2.4532\n",
              "3       2.4004\n",
              "4       2.4530\n",
              "         ...  \n",
              "1562    2.3762\n",
              "1563    2.4880\n",
              "1564    2.4590\n",
              "1565    2.3600\n",
              "1566    2.3701\n",
              "Name: X86, Length: 1567, dtype: float64"
            ]
          },
          "metadata": {},
          "execution_count": 15
        }
      ],
      "source": [
        "#data.csv를 이용해서 data라는 데이터프레임 생성\n",
        "import pandas as pd\n",
        "data = pd.read_csv(\"data.csv\")\n",
        "\n",
        "#컬럼명을 확인\n",
        "data.index\n",
        "data.columns\n",
        "data.values\n",
        "\n",
        "#data.info()\n",
        "data.shape\n",
        "#2-3열, 10-110행 부분집합으로 출력(iloc)\n",
        "data.iloc[ 9:110   , 1:3   ]\n",
        "\n",
        "#두번째 컬럼을 3가지 방법으로 출력\n",
        "data[  \"X86\" ]\n",
        "data[  [\"X86\", \"X87\"] ]#2개 이상의 컬럼\n",
        "data.iloc[ :, 1 ]\n",
        "data.X86\n"
      ]
    },
    {
      "cell_type": "markdown",
      "source": [
        "- CSV 읽기 "
      ],
      "metadata": {
        "id": "Y7GK9ZHSOGYZ"
      }
    },
    {
      "cell_type": "code",
      "source": [
        "!wget https://github.com/rickiepark/python-machine-learning-book-3rd-edition/raw/master/ch08/ratings_train.txt -O ratings_train.txt\n",
        "!wget https://github.com/rickiepark/python-machine-learning-book-3rd-edition/raw/master/ch08/ratings_train.txt -O ratings_test.txt"
      ],
      "metadata": {
        "id": "gmFPAUmAOZVo",
        "colab": {
          "base_uri": "https://localhost:8080/"
        },
        "outputId": "2c2a3b81-9f32-4717-cd02-6ebb9b885e95"
      },
      "execution_count": null,
      "outputs": [
        {
          "output_type": "stream",
          "name": "stdout",
          "text": [
            "--2023-03-28 21:58:48--  https://github.com/rickiepark/python-machine-learning-book-3rd-edition/raw/master/ch08/ratings_train.txt\n",
            "Resolving github.com (github.com)... 140.82.121.3\n",
            "Connecting to github.com (github.com)|140.82.121.3|:443... connected.\n",
            "HTTP request sent, awaiting response... 302 Found\n",
            "Location: https://raw.githubusercontent.com/rickiepark/python-machine-learning-book-3rd-edition/master/ch08/ratings_train.txt [following]\n",
            "--2023-03-28 21:58:48--  https://raw.githubusercontent.com/rickiepark/python-machine-learning-book-3rd-edition/master/ch08/ratings_train.txt\n",
            "Resolving raw.githubusercontent.com (raw.githubusercontent.com)... 185.199.108.133, 185.199.109.133, 185.199.110.133, ...\n",
            "Connecting to raw.githubusercontent.com (raw.githubusercontent.com)|185.199.108.133|:443... connected.\n",
            "HTTP request sent, awaiting response... 200 OK\n",
            "Length: 14628807 (14M) [text/plain]\n",
            "Saving to: ‘ratings_train.txt’\n",
            "\n",
            "ratings_train.txt   100%[===================>]  13.95M  --.-KB/s    in 0.05s   \n",
            "\n",
            "2023-03-28 21:58:49 (275 MB/s) - ‘ratings_train.txt’ saved [14628807/14628807]\n",
            "\n",
            "--2023-03-28 21:58:49--  https://github.com/rickiepark/python-machine-learning-book-3rd-edition/raw/master/ch08/ratings_train.txt\n",
            "Resolving github.com (github.com)... 140.82.121.3\n",
            "Connecting to github.com (github.com)|140.82.121.3|:443... connected.\n",
            "HTTP request sent, awaiting response... 302 Found\n",
            "Location: https://raw.githubusercontent.com/rickiepark/python-machine-learning-book-3rd-edition/master/ch08/ratings_train.txt [following]\n",
            "--2023-03-28 21:58:49--  https://raw.githubusercontent.com/rickiepark/python-machine-learning-book-3rd-edition/master/ch08/ratings_train.txt\n",
            "Resolving raw.githubusercontent.com (raw.githubusercontent.com)... 185.199.108.133, 185.199.109.133, 185.199.110.133, ...\n",
            "Connecting to raw.githubusercontent.com (raw.githubusercontent.com)|185.199.108.133|:443... connected.\n",
            "HTTP request sent, awaiting response... 200 OK\n",
            "Length: 14628807 (14M) [text/plain]\n",
            "Saving to: ‘ratings_test.txt’\n",
            "\n",
            "ratings_test.txt    100%[===================>]  13.95M  --.-KB/s    in 0.05s   \n",
            "\n",
            "2023-03-28 21:58:49 (276 MB/s) - ‘ratings_test.txt’ saved [14628807/14628807]\n",
            "\n"
          ]
        }
      ]
    },
    {
      "cell_type": "code",
      "source": [
        "import pandas as pd\n",
        "\n",
        "train_df = pd.read_csv('ratings_train.txt', sep='\\t')\n",
        "train_df.head(3)\n",
        "train_df['label'].value_counts( )"
      ],
      "metadata": {
        "colab": {
          "base_uri": "https://localhost:8080/"
        },
        "outputId": "b84b582e-0ad2-40b7-f4bc-b9f4c7185030",
        "id": "QHaT0uUuOZVo"
      },
      "execution_count": null,
      "outputs": [
        {
          "output_type": "execute_result",
          "data": {
            "text/plain": [
              "0    75173\n",
              "1    74827\n",
              "Name: label, dtype: int64"
            ]
          },
          "metadata": {},
          "execution_count": 20
        }
      ]
    },
    {
      "cell_type": "markdown",
      "source": [
        "-apply 함수 활용 missing value 처리"
      ],
      "metadata": {
        "id": "JuHaC0HjWM5J"
      }
    },
    {
      "cell_type": "code",
      "source": [
        "import numpy as np\n",
        "import pandas as pd\n",
        "def get_first_cabin(row):\n",
        "\ttry:\n",
        "\t\treturn row.split()[0]\t#공백을 기준으로 나눈 첫번째 값\n",
        "\texcept:\n",
        "\t\treturn np.nan\t\n",
        "data = pd.read_csv(\"titanic_raw.csv\")\n",
        "data = data.replace('?', np.nan)\t#치환\n",
        "data['cabin'] = data['cabin'].apply(get_first_cabin) #cabin컬럼에 함수 적용용\n",
        "data.head()\n",
        "data.to_csv('titanic.csv', index=False)"
      ],
      "metadata": {
        "id": "8Vry3m4FzKbe"
      },
      "execution_count": null,
      "outputs": []
    },
    {
      "cell_type": "markdown",
      "source": [
        "- Category Encoding"
      ],
      "metadata": {
        "id": "IaZXK_RC-6Xv"
      }
    },
    {
      "cell_type": "code",
      "source": [
        "import random\n",
        "import pandas as pd\n",
        "import numpy as np\n",
        "\n",
        "data = pd.read_csv('crx.data', header=None)\n",
        "data.shape\n",
        "\n",
        "varnames = ['A'+str(s) for s in range(1,17)]\n",
        "data.columns = varnames\n",
        "data = data.replace('?', np.nan)\n",
        "data.info()"
      ],
      "metadata": {
        "id": "Su6dir1cy47s"
      },
      "execution_count": null,
      "outputs": []
    },
    {
      "cell_type": "code",
      "source": [
        "#re-cast to float\n",
        "data['A2'] = data['A2'].astype('float') #특정 컬럼의 type을 변환하는 메소드\n",
        "data['A14'] = data['A14'].astype('float')\n",
        "\n",
        "#re code target as binary\n",
        "data['A16'] = data['A16'].map({'+':1, '-':0}) #딕셔너리 대로 값을 변환(키->밸류)\n",
        "\n",
        "cat_cols = [c for c in data.columns if data[c].dtypes=='O']\t#범주형 변수\n",
        "num_cols = [c for c in data.columns if data[c].dtypes!='O']\t#수치형 변수\n",
        "\n"
      ],
      "metadata": {
        "id": "vb46UaV8aW6I"
      },
      "execution_count": null,
      "outputs": []
    },
    {
      "cell_type": "code",
      "source": [
        "num_cols"
      ],
      "metadata": {
        "colab": {
          "base_uri": "https://localhost:8080/"
        },
        "id": "6miRV25w7guQ",
        "outputId": "ce93001b-e138-4f9f-ae2d-d62270414615"
      },
      "execution_count": null,
      "outputs": [
        {
          "output_type": "execute_result",
          "data": {
            "text/plain": [
              "['A2', 'A3', 'A8', 'A11', 'A14', 'A15', 'A16']"
            ]
          },
          "metadata": {},
          "execution_count": 8
        }
      ]
    },
    {
      "cell_type": "code",
      "source": [
        "#missing 처리\n",
        "data[num_cols] = data[num_cols].fillna(0) #수치형변수만 선택->결측치->0으로 채우기기\n",
        "data[cat_cols] = data[cat_cols].fillna('Missing')#범주형변수만 선택->결측치->Missing으로..\n",
        "\n",
        "data.to_csv('creditApprovalUCI.csv', index=False) #행이름 제외하고 저장"
      ],
      "metadata": {
        "id": "p51UtMY57bL5"
      },
      "execution_count": null,
      "outputs": []
    },
    {
      "cell_type": "markdown",
      "source": [
        "- One Hot Encoding\n",
        " - onehot encoding \n",
        " - 예: 성별->각 범주가 컬럼이 되고, 값은 1또는 0 또는 한 변수에서 값이 1과 0\n",
        " - 범주 수(k)-1개의 변수로 표현\n",
        " - 경우에 따라 범주 개수 만큼의 변수로 인코딩할 수 있음: \n",
        " - DT와 같이 재귀적이고 분할하여 모델링하는 경우, 각 범주가 분리되는 것이 효과적"
      ],
      "metadata": {
        "id": "J-Ycc5c-QSXb"
      }
    },
    {
      "cell_type": "code",
      "source": [
        "import pandas as pd\n",
        "from sklearn.model_selection import train_test_split\n",
        "from sklearn.preprocessing import OneHotEncoder\n",
        "\n",
        "data = pd.read_csv('creditApprovalUCI.csv')\n",
        "\n",
        "X_train, X_test, y_train, y_test = train_test_split(data.drop(labels=['A16'], axis=1), data['A16'], test_size=0.3,random_state=0)\n",
        "X_train['A4'].unique()\n",
        "X_train['A4'].isnull().mean()\n",
        "X_train['A4'].value_counts()\n"
      ],
      "metadata": {
        "colab": {
          "base_uri": "https://localhost:8080/"
        },
        "id": "PIYLHCRzpKWa",
        "outputId": "d1703c58-ad18-4aa5-d49e-fd8fbef52b2d"
      },
      "execution_count": null,
      "outputs": [
        {
          "output_type": "execute_result",
          "data": {
            "text/plain": [
              "u          363\n",
              "y          115\n",
              "Missing      4\n",
              "l            1\n",
              "Name: A4, dtype: int64"
            ]
          },
          "metadata": {},
          "execution_count": 11
        }
      ]
    },
    {
      "cell_type": "code",
      "source": [
        "tmp = pd.get_dummies( X_train['A4'], drop_first=False)#drop_first=True, OHE 할 때 컬럼을 줄여주는\n",
        "tmp"
      ],
      "metadata": {
        "id": "icc_MvuM2ryg"
      },
      "execution_count": null,
      "outputs": []
    },
    {
      "cell_type": "code",
      "source": [
        "pd.get_dummies(X_train['A4'], drop_first=True)\n",
        "tmp = pd.get_dummies(X_train['A4'], drop_first=True)\t#k-1개로 인코딩\n",
        "tmp.head()"
      ],
      "metadata": {
        "id": "5702IV4SUvAL"
      },
      "execution_count": null,
      "outputs": []
    },
    {
      "cell_type": "code",
      "source": [
        "pd.get_dummies(X_train['A4'], drop_first=True, dummy_na=True)"
      ],
      "metadata": {
        "colab": {
          "base_uri": "https://localhost:8080/",
          "height": 481
        },
        "id": "PCDdzBbbVt-k",
        "outputId": "89409dcd-23fe-468d-c0b2-b88f8b2946fe"
      },
      "execution_count": null,
      "outputs": [
        {
          "output_type": "stream",
          "name": "stderr",
          "text": [
            "/usr/local/lib/python3.9/dist-packages/ipykernel/ipkernel.py:283: DeprecationWarning: `should_run_async` will not call `transform_cell` automatically in the future. Please pass the result to `transformed_cell` argument and any exception that happen during thetransform in `preprocessing_exc_tuple` in IPython 7.17 and above.\n",
            "  and should_run_async(code)\n"
          ]
        },
        {
          "output_type": "execute_result",
          "data": {
            "text/plain": [
              "     l  u  y  NaN\n",
              "596  0  1  0    0\n",
              "303  0  1  0    0\n",
              "204  0  0  1    0\n",
              "351  0  0  1    0\n",
              "118  0  1  0    0\n",
              "..  .. .. ..  ...\n",
              "359  0  1  0    0\n",
              "192  0  1  0    0\n",
              "629  0  1  0    0\n",
              "559  0  1  0    0\n",
              "684  0  1  0    0\n",
              "\n",
              "[483 rows x 4 columns]"
            ],
            "text/html": [
              "\n",
              "  <div id=\"df-4486c1c8-4f86-47fb-ac8b-57e9b8f99e90\">\n",
              "    <div class=\"colab-df-container\">\n",
              "      <div>\n",
              "<style scoped>\n",
              "    .dataframe tbody tr th:only-of-type {\n",
              "        vertical-align: middle;\n",
              "    }\n",
              "\n",
              "    .dataframe tbody tr th {\n",
              "        vertical-align: top;\n",
              "    }\n",
              "\n",
              "    .dataframe thead th {\n",
              "        text-align: right;\n",
              "    }\n",
              "</style>\n",
              "<table border=\"1\" class=\"dataframe\">\n",
              "  <thead>\n",
              "    <tr style=\"text-align: right;\">\n",
              "      <th></th>\n",
              "      <th>l</th>\n",
              "      <th>u</th>\n",
              "      <th>y</th>\n",
              "      <th>NaN</th>\n",
              "    </tr>\n",
              "  </thead>\n",
              "  <tbody>\n",
              "    <tr>\n",
              "      <th>596</th>\n",
              "      <td>0</td>\n",
              "      <td>1</td>\n",
              "      <td>0</td>\n",
              "      <td>0</td>\n",
              "    </tr>\n",
              "    <tr>\n",
              "      <th>303</th>\n",
              "      <td>0</td>\n",
              "      <td>1</td>\n",
              "      <td>0</td>\n",
              "      <td>0</td>\n",
              "    </tr>\n",
              "    <tr>\n",
              "      <th>204</th>\n",
              "      <td>0</td>\n",
              "      <td>0</td>\n",
              "      <td>1</td>\n",
              "      <td>0</td>\n",
              "    </tr>\n",
              "    <tr>\n",
              "      <th>351</th>\n",
              "      <td>0</td>\n",
              "      <td>0</td>\n",
              "      <td>1</td>\n",
              "      <td>0</td>\n",
              "    </tr>\n",
              "    <tr>\n",
              "      <th>118</th>\n",
              "      <td>0</td>\n",
              "      <td>1</td>\n",
              "      <td>0</td>\n",
              "      <td>0</td>\n",
              "    </tr>\n",
              "    <tr>\n",
              "      <th>...</th>\n",
              "      <td>...</td>\n",
              "      <td>...</td>\n",
              "      <td>...</td>\n",
              "      <td>...</td>\n",
              "    </tr>\n",
              "    <tr>\n",
              "      <th>359</th>\n",
              "      <td>0</td>\n",
              "      <td>1</td>\n",
              "      <td>0</td>\n",
              "      <td>0</td>\n",
              "    </tr>\n",
              "    <tr>\n",
              "      <th>192</th>\n",
              "      <td>0</td>\n",
              "      <td>1</td>\n",
              "      <td>0</td>\n",
              "      <td>0</td>\n",
              "    </tr>\n",
              "    <tr>\n",
              "      <th>629</th>\n",
              "      <td>0</td>\n",
              "      <td>1</td>\n",
              "      <td>0</td>\n",
              "      <td>0</td>\n",
              "    </tr>\n",
              "    <tr>\n",
              "      <th>559</th>\n",
              "      <td>0</td>\n",
              "      <td>1</td>\n",
              "      <td>0</td>\n",
              "      <td>0</td>\n",
              "    </tr>\n",
              "    <tr>\n",
              "      <th>684</th>\n",
              "      <td>0</td>\n",
              "      <td>1</td>\n",
              "      <td>0</td>\n",
              "      <td>0</td>\n",
              "    </tr>\n",
              "  </tbody>\n",
              "</table>\n",
              "<p>483 rows × 4 columns</p>\n",
              "</div>\n",
              "      <button class=\"colab-df-convert\" onclick=\"convertToInteractive('df-4486c1c8-4f86-47fb-ac8b-57e9b8f99e90')\"\n",
              "              title=\"Convert this dataframe to an interactive table.\"\n",
              "              style=\"display:none;\">\n",
              "        \n",
              "  <svg xmlns=\"http://www.w3.org/2000/svg\" height=\"24px\"viewBox=\"0 0 24 24\"\n",
              "       width=\"24px\">\n",
              "    <path d=\"M0 0h24v24H0V0z\" fill=\"none\"/>\n",
              "    <path d=\"M18.56 5.44l.94 2.06.94-2.06 2.06-.94-2.06-.94-.94-2.06-.94 2.06-2.06.94zm-11 1L8.5 8.5l.94-2.06 2.06-.94-2.06-.94L8.5 2.5l-.94 2.06-2.06.94zm10 10l.94 2.06.94-2.06 2.06-.94-2.06-.94-.94-2.06-.94 2.06-2.06.94z\"/><path d=\"M17.41 7.96l-1.37-1.37c-.4-.4-.92-.59-1.43-.59-.52 0-1.04.2-1.43.59L10.3 9.45l-7.72 7.72c-.78.78-.78 2.05 0 2.83L4 21.41c.39.39.9.59 1.41.59.51 0 1.02-.2 1.41-.59l7.78-7.78 2.81-2.81c.8-.78.8-2.07 0-2.86zM5.41 20L4 18.59l7.72-7.72 1.47 1.35L5.41 20z\"/>\n",
              "  </svg>\n",
              "      </button>\n",
              "      \n",
              "  <style>\n",
              "    .colab-df-container {\n",
              "      display:flex;\n",
              "      flex-wrap:wrap;\n",
              "      gap: 12px;\n",
              "    }\n",
              "\n",
              "    .colab-df-convert {\n",
              "      background-color: #E8F0FE;\n",
              "      border: none;\n",
              "      border-radius: 50%;\n",
              "      cursor: pointer;\n",
              "      display: none;\n",
              "      fill: #1967D2;\n",
              "      height: 32px;\n",
              "      padding: 0 0 0 0;\n",
              "      width: 32px;\n",
              "    }\n",
              "\n",
              "    .colab-df-convert:hover {\n",
              "      background-color: #E2EBFA;\n",
              "      box-shadow: 0px 1px 2px rgba(60, 64, 67, 0.3), 0px 1px 3px 1px rgba(60, 64, 67, 0.15);\n",
              "      fill: #174EA6;\n",
              "    }\n",
              "\n",
              "    [theme=dark] .colab-df-convert {\n",
              "      background-color: #3B4455;\n",
              "      fill: #D2E3FC;\n",
              "    }\n",
              "\n",
              "    [theme=dark] .colab-df-convert:hover {\n",
              "      background-color: #434B5C;\n",
              "      box-shadow: 0px 1px 3px 1px rgba(0, 0, 0, 0.15);\n",
              "      filter: drop-shadow(0px 1px 2px rgba(0, 0, 0, 0.3));\n",
              "      fill: #FFFFFF;\n",
              "    }\n",
              "  </style>\n",
              "\n",
              "      <script>\n",
              "        const buttonEl =\n",
              "          document.querySelector('#df-4486c1c8-4f86-47fb-ac8b-57e9b8f99e90 button.colab-df-convert');\n",
              "        buttonEl.style.display =\n",
              "          google.colab.kernel.accessAllowed ? 'block' : 'none';\n",
              "\n",
              "        async function convertToInteractive(key) {\n",
              "          const element = document.querySelector('#df-4486c1c8-4f86-47fb-ac8b-57e9b8f99e90');\n",
              "          const dataTable =\n",
              "            await google.colab.kernel.invokeFunction('convertToInteractive',\n",
              "                                                     [key], {});\n",
              "          if (!dataTable) return;\n",
              "\n",
              "          const docLinkHtml = 'Like what you see? Visit the ' +\n",
              "            '<a target=\"_blank\" href=https://colab.research.google.com/notebooks/data_table.ipynb>data table notebook</a>'\n",
              "            + ' to learn more about interactive tables.';\n",
              "          element.innerHTML = '';\n",
              "          dataTable['output_type'] = 'display_data';\n",
              "          await google.colab.output.renderOutput(dataTable, element);\n",
              "          const docLink = document.createElement('div');\n",
              "          docLink.innerHTML = docLinkHtml;\n",
              "          element.appendChild(docLink);\n",
              "        }\n",
              "      </script>\n",
              "    </div>\n",
              "  </div>\n",
              "  "
            ]
          },
          "metadata": {},
          "execution_count": 135
        }
      ]
    },
    {
      "cell_type": "markdown",
      "source": [
        "- 연습\n",
        " - df0.csv, df1.csv를 각각 df, df2로 읽으세요"
      ],
      "metadata": {
        "id": "X_DqogurNVH1"
      }
    },
    {
      "cell_type": "code",
      "source": [
        "import pandas as pd\n",
        "df = pd.read_csv(\"df0.csv\")\n",
        "df2 = pd.read_csv(\"df1.csv\")"
      ],
      "metadata": {
        "id": "ma-IwkxbOnnS"
      },
      "execution_count": null,
      "outputs": []
    },
    {
      "cell_type": "code",
      "source": [
        "df2"
      ],
      "metadata": {
        "colab": {
          "base_uri": "https://localhost:8080/",
          "height": 300
        },
        "id": "08WvUFIQ-oiG",
        "outputId": "ab63fc97-f212-41ab-9d9f-25149fc1a584"
      },
      "execution_count": null,
      "outputs": [
        {
          "output_type": "execute_result",
          "data": {
            "text/plain": [
              "         date  value  change\n",
              "0  2023-03-01   1000     1.5\n",
              "1  2023-03-02   1010     1.3\n",
              "2  2023-03-05   1008     0.9\n",
              "3  2023-03-05   1011     1.5\n",
              "4  2023-03-09   1000     1.5\n",
              "5  2023-03-10   1010     1.3\n",
              "6  2023-03-14   1008     0.9\n",
              "7  2023-03-14   1011     1.5"
            ],
            "text/html": [
              "\n",
              "  <div id=\"df-ce3f9ac5-cc30-4497-a0a3-d885867cb174\">\n",
              "    <div class=\"colab-df-container\">\n",
              "      <div>\n",
              "<style scoped>\n",
              "    .dataframe tbody tr th:only-of-type {\n",
              "        vertical-align: middle;\n",
              "    }\n",
              "\n",
              "    .dataframe tbody tr th {\n",
              "        vertical-align: top;\n",
              "    }\n",
              "\n",
              "    .dataframe thead th {\n",
              "        text-align: right;\n",
              "    }\n",
              "</style>\n",
              "<table border=\"1\" class=\"dataframe\">\n",
              "  <thead>\n",
              "    <tr style=\"text-align: right;\">\n",
              "      <th></th>\n",
              "      <th>date</th>\n",
              "      <th>value</th>\n",
              "      <th>change</th>\n",
              "    </tr>\n",
              "  </thead>\n",
              "  <tbody>\n",
              "    <tr>\n",
              "      <th>0</th>\n",
              "      <td>2023-03-01</td>\n",
              "      <td>1000</td>\n",
              "      <td>1.5</td>\n",
              "    </tr>\n",
              "    <tr>\n",
              "      <th>1</th>\n",
              "      <td>2023-03-02</td>\n",
              "      <td>1010</td>\n",
              "      <td>1.3</td>\n",
              "    </tr>\n",
              "    <tr>\n",
              "      <th>2</th>\n",
              "      <td>2023-03-05</td>\n",
              "      <td>1008</td>\n",
              "      <td>0.9</td>\n",
              "    </tr>\n",
              "    <tr>\n",
              "      <th>3</th>\n",
              "      <td>2023-03-05</td>\n",
              "      <td>1011</td>\n",
              "      <td>1.5</td>\n",
              "    </tr>\n",
              "    <tr>\n",
              "      <th>4</th>\n",
              "      <td>2023-03-09</td>\n",
              "      <td>1000</td>\n",
              "      <td>1.5</td>\n",
              "    </tr>\n",
              "    <tr>\n",
              "      <th>5</th>\n",
              "      <td>2023-03-10</td>\n",
              "      <td>1010</td>\n",
              "      <td>1.3</td>\n",
              "    </tr>\n",
              "    <tr>\n",
              "      <th>6</th>\n",
              "      <td>2023-03-14</td>\n",
              "      <td>1008</td>\n",
              "      <td>0.9</td>\n",
              "    </tr>\n",
              "    <tr>\n",
              "      <th>7</th>\n",
              "      <td>2023-03-14</td>\n",
              "      <td>1011</td>\n",
              "      <td>1.5</td>\n",
              "    </tr>\n",
              "  </tbody>\n",
              "</table>\n",
              "</div>\n",
              "      <button class=\"colab-df-convert\" onclick=\"convertToInteractive('df-ce3f9ac5-cc30-4497-a0a3-d885867cb174')\"\n",
              "              title=\"Convert this dataframe to an interactive table.\"\n",
              "              style=\"display:none;\">\n",
              "        \n",
              "  <svg xmlns=\"http://www.w3.org/2000/svg\" height=\"24px\"viewBox=\"0 0 24 24\"\n",
              "       width=\"24px\">\n",
              "    <path d=\"M0 0h24v24H0V0z\" fill=\"none\"/>\n",
              "    <path d=\"M18.56 5.44l.94 2.06.94-2.06 2.06-.94-2.06-.94-.94-2.06-.94 2.06-2.06.94zm-11 1L8.5 8.5l.94-2.06 2.06-.94-2.06-.94L8.5 2.5l-.94 2.06-2.06.94zm10 10l.94 2.06.94-2.06 2.06-.94-2.06-.94-.94-2.06-.94 2.06-2.06.94z\"/><path d=\"M17.41 7.96l-1.37-1.37c-.4-.4-.92-.59-1.43-.59-.52 0-1.04.2-1.43.59L10.3 9.45l-7.72 7.72c-.78.78-.78 2.05 0 2.83L4 21.41c.39.39.9.59 1.41.59.51 0 1.02-.2 1.41-.59l7.78-7.78 2.81-2.81c.8-.78.8-2.07 0-2.86zM5.41 20L4 18.59l7.72-7.72 1.47 1.35L5.41 20z\"/>\n",
              "  </svg>\n",
              "      </button>\n",
              "      \n",
              "  <style>\n",
              "    .colab-df-container {\n",
              "      display:flex;\n",
              "      flex-wrap:wrap;\n",
              "      gap: 12px;\n",
              "    }\n",
              "\n",
              "    .colab-df-convert {\n",
              "      background-color: #E8F0FE;\n",
              "      border: none;\n",
              "      border-radius: 50%;\n",
              "      cursor: pointer;\n",
              "      display: none;\n",
              "      fill: #1967D2;\n",
              "      height: 32px;\n",
              "      padding: 0 0 0 0;\n",
              "      width: 32px;\n",
              "    }\n",
              "\n",
              "    .colab-df-convert:hover {\n",
              "      background-color: #E2EBFA;\n",
              "      box-shadow: 0px 1px 2px rgba(60, 64, 67, 0.3), 0px 1px 3px 1px rgba(60, 64, 67, 0.15);\n",
              "      fill: #174EA6;\n",
              "    }\n",
              "\n",
              "    [theme=dark] .colab-df-convert {\n",
              "      background-color: #3B4455;\n",
              "      fill: #D2E3FC;\n",
              "    }\n",
              "\n",
              "    [theme=dark] .colab-df-convert:hover {\n",
              "      background-color: #434B5C;\n",
              "      box-shadow: 0px 1px 3px 1px rgba(0, 0, 0, 0.15);\n",
              "      filter: drop-shadow(0px 1px 2px rgba(0, 0, 0, 0.3));\n",
              "      fill: #FFFFFF;\n",
              "    }\n",
              "  </style>\n",
              "\n",
              "      <script>\n",
              "        const buttonEl =\n",
              "          document.querySelector('#df-ce3f9ac5-cc30-4497-a0a3-d885867cb174 button.colab-df-convert');\n",
              "        buttonEl.style.display =\n",
              "          google.colab.kernel.accessAllowed ? 'block' : 'none';\n",
              "\n",
              "        async function convertToInteractive(key) {\n",
              "          const element = document.querySelector('#df-ce3f9ac5-cc30-4497-a0a3-d885867cb174');\n",
              "          const dataTable =\n",
              "            await google.colab.kernel.invokeFunction('convertToInteractive',\n",
              "                                                     [key], {});\n",
              "          if (!dataTable) return;\n",
              "\n",
              "          const docLinkHtml = 'Like what you see? Visit the ' +\n",
              "            '<a target=\"_blank\" href=https://colab.research.google.com/notebooks/data_table.ipynb>data table notebook</a>'\n",
              "            + ' to learn more about interactive tables.';\n",
              "          element.innerHTML = '';\n",
              "          dataTable['output_type'] = 'display_data';\n",
              "          await google.colab.output.renderOutput(dataTable, element);\n",
              "          const docLink = document.createElement('div');\n",
              "          docLink.innerHTML = docLinkHtml;\n",
              "          element.appendChild(docLink);\n",
              "        }\n",
              "      </script>\n",
              "    </div>\n",
              "  </div>\n",
              "  "
            ]
          },
          "metadata": {},
          "execution_count": 16
        }
      ]
    },
    {
      "cell_type": "code",
      "source": [
        "def func1( input):\n",
        "  if input > 1:\n",
        "    return 1\n",
        "  else:\n",
        "    return 0\n",
        "\n",
        "df2[\"target\"] = df2.change.apply(func1)\n",
        "df2.target"
      ],
      "metadata": {
        "id": "T6U4BsYnh5eo",
        "colab": {
          "base_uri": "https://localhost:8080/"
        },
        "outputId": "0c81218f-ff6d-498c-83cb-1f5aeae96171"
      },
      "execution_count": null,
      "outputs": [
        {
          "output_type": "execute_result",
          "data": {
            "text/plain": [
              "0    1\n",
              "1    1\n",
              "2    0\n",
              "3    1\n",
              "4    1\n",
              "5    1\n",
              "6    0\n",
              "7    1\n",
              "Name: target, dtype: int64"
            ]
          },
          "metadata": {},
          "execution_count": 17
        }
      ]
    },
    {
      "cell_type": "code",
      "source": [
        "df[\"date2\"] = df.date.str.replace(\".\",\"\") #str은 필수 "
      ],
      "metadata": {
        "colab": {
          "base_uri": "https://localhost:8080/"
        },
        "id": "S6X0mT6GgmZD",
        "outputId": "649371d8-563a-45af-f102-e2bbe33f0574"
      },
      "execution_count": null,
      "outputs": [
        {
          "output_type": "stream",
          "name": "stderr",
          "text": [
            "<ipython-input-22-15e56b74a615>:1: FutureWarning: The default value of regex will change from True to False in a future version. In addition, single character regular expressions will *not* be treated as literal strings when regex=True.\n",
            "  df[\"date2\"] = df.date.str.replace(\".\",\"\") #str은 생략가능능\n"
          ]
        }
      ]
    },
    {
      "cell_type": "code",
      "source": [
        "df2[\"date2\"] = df2.date.str.replace(\"-\",\"\")"
      ],
      "metadata": {
        "id": "pfhihZhvhBXS"
      },
      "execution_count": null,
      "outputs": []
    },
    {
      "cell_type": "code",
      "source": [
        "df3 = pd.concat( [df,df2 ], axis=1) #컬럼 방향으로 추가, 옆으로...\n",
        "print(df3)"
      ],
      "metadata": {
        "id": "NupJbb5b_I5w"
      },
      "execution_count": null,
      "outputs": []
    },
    {
      "cell_type": "code",
      "source": [
        "\n",
        "df4 = df3.groupby(['date2'])[\"value\"].mean()"
      ],
      "metadata": {
        "id": "N4BGq5e5iqiK"
      },
      "execution_count": null,
      "outputs": []
    },
    {
      "cell_type": "code",
      "source": [
        "#merge\n",
        "df5 = pd.merge(df, df2, how=\"left\", on=\"date2\" )#왼쪽 데이터프레임(df)를 기준으로...\n",
        "#두 데이터프레임의 공통적으로 있는 date2를 기준으로...\n",
        "df5"
      ],
      "metadata": {
        "id": "QXVVP8v_cGc8"
      },
      "execution_count": null,
      "outputs": []
    },
    {
      "cell_type": "code",
      "source": [
        "print(df5.dropna())#원본에 미적용\n",
        "df5.dropna(inplace=True)#원본에 적용"
      ],
      "metadata": {
        "id": "pAXvPvZrQH_K"
      },
      "execution_count": null,
      "outputs": []
    },
    {
      "cell_type": "code",
      "source": [
        "#df5에서 date2를 기준으로 value2의 평균을 group by\n",
        "#df, df2를 merge할 때 , how=\"right\"로 해보시고 결과를 df6 "
      ],
      "metadata": {
        "id": "cp3SotcBA132"
      },
      "execution_count": null,
      "outputs": []
    },
    {
      "cell_type": "code",
      "source": [
        "df5.groupby(['date2'])[\"value\"].mean() #df5에서 date2기준, value컬럼의 평균"
      ],
      "metadata": {
        "colab": {
          "base_uri": "https://localhost:8080/"
        },
        "id": "IrsFPb8YPwQV",
        "outputId": "ddaca6a6-4264-4405-fb61-4cf306a70e9c"
      },
      "execution_count": null,
      "outputs": [
        {
          "output_type": "execute_result",
          "data": {
            "text/plain": [
              "date2\n",
              "20230301    10005.0\n",
              "20230302    10103.0\n",
              "20230305    10089.0\n",
              "20230309    10005.0\n",
              "20230310    10103.0\n",
              "20230314    10115.0\n",
              "Name: value2, dtype: float64"
            ]
          },
          "metadata": {},
          "execution_count": 33
        }
      ]
    },
    {
      "cell_type": "code",
      "source": [
        "pd.merge( df2, df, how=\"left\", on=\"date2\")"
      ],
      "metadata": {
        "colab": {
          "base_uri": "https://localhost:8080/",
          "height": 300
        },
        "id": "BfDdVZRNCpes",
        "outputId": "e2004bb5-73f5-4b84-89c0-0ca37d2f9d08"
      },
      "execution_count": null,
      "outputs": [
        {
          "output_type": "execute_result",
          "data": {
            "text/plain": [
              "       date_x  value  change  target     date2      date_y  value2\n",
              "0  2023-03-01   1000     1.5       1  20230301  2023.03.01   10005\n",
              "1  2023-03-02   1010     1.3       1  20230302  2023.03.02   10103\n",
              "2  2023-03-05   1008     0.9       0  20230305  2023.03.05   10089\n",
              "3  2023-03-05   1011     1.5       1  20230305  2023.03.05   10089\n",
              "4  2023-03-09   1000     1.5       1  20230309  2023.03.09   10005\n",
              "5  2023-03-10   1010     1.3       1  20230310  2023.03.10   10103\n",
              "6  2023-03-14   1008     0.9       0  20230314  2023.03.14   10115\n",
              "7  2023-03-14   1011     1.5       1  20230314  2023.03.14   10115"
            ],
            "text/html": [
              "\n",
              "  <div id=\"df-c56aeb6d-3005-4f94-af70-156a6739badd\">\n",
              "    <div class=\"colab-df-container\">\n",
              "      <div>\n",
              "<style scoped>\n",
              "    .dataframe tbody tr th:only-of-type {\n",
              "        vertical-align: middle;\n",
              "    }\n",
              "\n",
              "    .dataframe tbody tr th {\n",
              "        vertical-align: top;\n",
              "    }\n",
              "\n",
              "    .dataframe thead th {\n",
              "        text-align: right;\n",
              "    }\n",
              "</style>\n",
              "<table border=\"1\" class=\"dataframe\">\n",
              "  <thead>\n",
              "    <tr style=\"text-align: right;\">\n",
              "      <th></th>\n",
              "      <th>date_x</th>\n",
              "      <th>value</th>\n",
              "      <th>change</th>\n",
              "      <th>target</th>\n",
              "      <th>date2</th>\n",
              "      <th>date_y</th>\n",
              "      <th>value2</th>\n",
              "    </tr>\n",
              "  </thead>\n",
              "  <tbody>\n",
              "    <tr>\n",
              "      <th>0</th>\n",
              "      <td>2023-03-01</td>\n",
              "      <td>1000</td>\n",
              "      <td>1.5</td>\n",
              "      <td>1</td>\n",
              "      <td>20230301</td>\n",
              "      <td>2023.03.01</td>\n",
              "      <td>10005</td>\n",
              "    </tr>\n",
              "    <tr>\n",
              "      <th>1</th>\n",
              "      <td>2023-03-02</td>\n",
              "      <td>1010</td>\n",
              "      <td>1.3</td>\n",
              "      <td>1</td>\n",
              "      <td>20230302</td>\n",
              "      <td>2023.03.02</td>\n",
              "      <td>10103</td>\n",
              "    </tr>\n",
              "    <tr>\n",
              "      <th>2</th>\n",
              "      <td>2023-03-05</td>\n",
              "      <td>1008</td>\n",
              "      <td>0.9</td>\n",
              "      <td>0</td>\n",
              "      <td>20230305</td>\n",
              "      <td>2023.03.05</td>\n",
              "      <td>10089</td>\n",
              "    </tr>\n",
              "    <tr>\n",
              "      <th>3</th>\n",
              "      <td>2023-03-05</td>\n",
              "      <td>1011</td>\n",
              "      <td>1.5</td>\n",
              "      <td>1</td>\n",
              "      <td>20230305</td>\n",
              "      <td>2023.03.05</td>\n",
              "      <td>10089</td>\n",
              "    </tr>\n",
              "    <tr>\n",
              "      <th>4</th>\n",
              "      <td>2023-03-09</td>\n",
              "      <td>1000</td>\n",
              "      <td>1.5</td>\n",
              "      <td>1</td>\n",
              "      <td>20230309</td>\n",
              "      <td>2023.03.09</td>\n",
              "      <td>10005</td>\n",
              "    </tr>\n",
              "    <tr>\n",
              "      <th>5</th>\n",
              "      <td>2023-03-10</td>\n",
              "      <td>1010</td>\n",
              "      <td>1.3</td>\n",
              "      <td>1</td>\n",
              "      <td>20230310</td>\n",
              "      <td>2023.03.10</td>\n",
              "      <td>10103</td>\n",
              "    </tr>\n",
              "    <tr>\n",
              "      <th>6</th>\n",
              "      <td>2023-03-14</td>\n",
              "      <td>1008</td>\n",
              "      <td>0.9</td>\n",
              "      <td>0</td>\n",
              "      <td>20230314</td>\n",
              "      <td>2023.03.14</td>\n",
              "      <td>10115</td>\n",
              "    </tr>\n",
              "    <tr>\n",
              "      <th>7</th>\n",
              "      <td>2023-03-14</td>\n",
              "      <td>1011</td>\n",
              "      <td>1.5</td>\n",
              "      <td>1</td>\n",
              "      <td>20230314</td>\n",
              "      <td>2023.03.14</td>\n",
              "      <td>10115</td>\n",
              "    </tr>\n",
              "  </tbody>\n",
              "</table>\n",
              "</div>\n",
              "      <button class=\"colab-df-convert\" onclick=\"convertToInteractive('df-c56aeb6d-3005-4f94-af70-156a6739badd')\"\n",
              "              title=\"Convert this dataframe to an interactive table.\"\n",
              "              style=\"display:none;\">\n",
              "        \n",
              "  <svg xmlns=\"http://www.w3.org/2000/svg\" height=\"24px\"viewBox=\"0 0 24 24\"\n",
              "       width=\"24px\">\n",
              "    <path d=\"M0 0h24v24H0V0z\" fill=\"none\"/>\n",
              "    <path d=\"M18.56 5.44l.94 2.06.94-2.06 2.06-.94-2.06-.94-.94-2.06-.94 2.06-2.06.94zm-11 1L8.5 8.5l.94-2.06 2.06-.94-2.06-.94L8.5 2.5l-.94 2.06-2.06.94zm10 10l.94 2.06.94-2.06 2.06-.94-2.06-.94-.94-2.06-.94 2.06-2.06.94z\"/><path d=\"M17.41 7.96l-1.37-1.37c-.4-.4-.92-.59-1.43-.59-.52 0-1.04.2-1.43.59L10.3 9.45l-7.72 7.72c-.78.78-.78 2.05 0 2.83L4 21.41c.39.39.9.59 1.41.59.51 0 1.02-.2 1.41-.59l7.78-7.78 2.81-2.81c.8-.78.8-2.07 0-2.86zM5.41 20L4 18.59l7.72-7.72 1.47 1.35L5.41 20z\"/>\n",
              "  </svg>\n",
              "      </button>\n",
              "      \n",
              "  <style>\n",
              "    .colab-df-container {\n",
              "      display:flex;\n",
              "      flex-wrap:wrap;\n",
              "      gap: 12px;\n",
              "    }\n",
              "\n",
              "    .colab-df-convert {\n",
              "      background-color: #E8F0FE;\n",
              "      border: none;\n",
              "      border-radius: 50%;\n",
              "      cursor: pointer;\n",
              "      display: none;\n",
              "      fill: #1967D2;\n",
              "      height: 32px;\n",
              "      padding: 0 0 0 0;\n",
              "      width: 32px;\n",
              "    }\n",
              "\n",
              "    .colab-df-convert:hover {\n",
              "      background-color: #E2EBFA;\n",
              "      box-shadow: 0px 1px 2px rgba(60, 64, 67, 0.3), 0px 1px 3px 1px rgba(60, 64, 67, 0.15);\n",
              "      fill: #174EA6;\n",
              "    }\n",
              "\n",
              "    [theme=dark] .colab-df-convert {\n",
              "      background-color: #3B4455;\n",
              "      fill: #D2E3FC;\n",
              "    }\n",
              "\n",
              "    [theme=dark] .colab-df-convert:hover {\n",
              "      background-color: #434B5C;\n",
              "      box-shadow: 0px 1px 3px 1px rgba(0, 0, 0, 0.15);\n",
              "      filter: drop-shadow(0px 1px 2px rgba(0, 0, 0, 0.3));\n",
              "      fill: #FFFFFF;\n",
              "    }\n",
              "  </style>\n",
              "\n",
              "      <script>\n",
              "        const buttonEl =\n",
              "          document.querySelector('#df-c56aeb6d-3005-4f94-af70-156a6739badd button.colab-df-convert');\n",
              "        buttonEl.style.display =\n",
              "          google.colab.kernel.accessAllowed ? 'block' : 'none';\n",
              "\n",
              "        async function convertToInteractive(key) {\n",
              "          const element = document.querySelector('#df-c56aeb6d-3005-4f94-af70-156a6739badd');\n",
              "          const dataTable =\n",
              "            await google.colab.kernel.invokeFunction('convertToInteractive',\n",
              "                                                     [key], {});\n",
              "          if (!dataTable) return;\n",
              "\n",
              "          const docLinkHtml = 'Like what you see? Visit the ' +\n",
              "            '<a target=\"_blank\" href=https://colab.research.google.com/notebooks/data_table.ipynb>data table notebook</a>'\n",
              "            + ' to learn more about interactive tables.';\n",
              "          element.innerHTML = '';\n",
              "          dataTable['output_type'] = 'display_data';\n",
              "          await google.colab.output.renderOutput(dataTable, element);\n",
              "          const docLink = document.createElement('div');\n",
              "          docLink.innerHTML = docLinkHtml;\n",
              "          element.appendChild(docLink);\n",
              "        }\n",
              "      </script>\n",
              "    </div>\n",
              "  </div>\n",
              "  "
            ]
          },
          "metadata": {},
          "execution_count": 35
        }
      ]
    },
    {
      "cell_type": "markdown",
      "source": [
        "# Date, time 실습"
      ],
      "metadata": {
        "id": "NXdIIEYSOMQa"
      }
    },
    {
      "cell_type": "markdown",
      "source": [
        "- Dates, Time 변수 "
      ],
      "metadata": {
        "id": "thT2MSy5SG3b"
      }
    },
    {
      "cell_type": "code",
      "source": [
        "import pandas as pd\n",
        "pd.date_range(start='1/1/2018', end='1/08/2018')\n",
        "pd.date_range(start='2018-01-01', end='1/08/2018')\n",
        "pd.date_range('2019-03-05', periods=20, freq='D')\n",
        "pd.date_range('2019-03-05', periods=20, freq='3M')\n",
        "pd.date_range('2019-03-05', periods=20, freq='3M')\n",
        "pd.date_range('2019-03-05', periods=20, freq='T')#Time간격\n",
        "pd.date_range('2019-03-05', periods=20, freq='3H')"
      ],
      "metadata": {
        "id": "WQbttpZHXgT9"
      },
      "execution_count": null,
      "outputs": []
    },
    {
      "cell_type": "code",
      "source": [
        "rng_ = pd.date_range('2019-03-05', periods=20, freq='T')\n",
        "type(rng_)\n",
        "df = pd.DataFrame({'date': rng_})\n",
        "df.head()\n",
        "df.shape\n",
        "df.dtypes\n",
        "df[\"date\"].dt.date\n",
        "df[\"date\"].dt.time"
      ],
      "metadata": {
        "id": "Msp31NhFw54n"
      },
      "execution_count": null,
      "outputs": []
    },
    {
      "cell_type": "code",
      "source": [
        "df['date'].dt.time\n",
        "df['date_part'] = df['date'].dt.date\n",
        "df['date_part'].head()\n",
        "\n",
        "df['time_part'] = df['date'].dt.time\n",
        "df['time_part'].head()"
      ],
      "metadata": {
        "id": "TX_rIAhCQiys"
      },
      "execution_count": null,
      "outputs": []
    },
    {
      "cell_type": "code",
      "source": [
        "df = pd.DataFrame({'date_var':['Jan-2015', 'Apr-2013', 'Jun-2014','Jan-2015']})\n",
        "pd.to_datetime(df['date_var'])\n",
        "df['datetime_var'] = pd.to_datetime(df['date_var'])"
      ],
      "metadata": {
        "id": "GWLeydppYiyu"
      },
      "execution_count": null,
      "outputs": []
    },
    {
      "cell_type": "code",
      "source": [
        "df['date'] = df['datetime_var'].dt.date\n",
        "df['time'] = df['datetime_var'].dt.time\n",
        "df"
      ],
      "metadata": {
        "colab": {
          "base_uri": "https://localhost:8080/",
          "height": 175
        },
        "id": "TE139hXCfp3Z",
        "outputId": "67aee996-40f6-471e-8bc5-291cb7ead5b4"
      },
      "execution_count": null,
      "outputs": [
        {
          "output_type": "execute_result",
          "data": {
            "text/plain": [
              "   date_var datetime_var        date      time\n",
              "0  Jan-2015   2015-01-01  2015-01-01  00:00:00\n",
              "1  Apr-2013   2013-04-01  2013-04-01  00:00:00\n",
              "2  Jun-2014   2014-06-01  2014-06-01  00:00:00\n",
              "3  Jan-2015   2015-01-01  2015-01-01  00:00:00"
            ],
            "text/html": [
              "\n",
              "  <div id=\"df-9c24064a-7ca8-4c9b-bdd8-f6bedc84bf18\">\n",
              "    <div class=\"colab-df-container\">\n",
              "      <div>\n",
              "<style scoped>\n",
              "    .dataframe tbody tr th:only-of-type {\n",
              "        vertical-align: middle;\n",
              "    }\n",
              "\n",
              "    .dataframe tbody tr th {\n",
              "        vertical-align: top;\n",
              "    }\n",
              "\n",
              "    .dataframe thead th {\n",
              "        text-align: right;\n",
              "    }\n",
              "</style>\n",
              "<table border=\"1\" class=\"dataframe\">\n",
              "  <thead>\n",
              "    <tr style=\"text-align: right;\">\n",
              "      <th></th>\n",
              "      <th>date_var</th>\n",
              "      <th>datetime_var</th>\n",
              "      <th>date</th>\n",
              "      <th>time</th>\n",
              "    </tr>\n",
              "  </thead>\n",
              "  <tbody>\n",
              "    <tr>\n",
              "      <th>0</th>\n",
              "      <td>Jan-2015</td>\n",
              "      <td>2015-01-01</td>\n",
              "      <td>2015-01-01</td>\n",
              "      <td>00:00:00</td>\n",
              "    </tr>\n",
              "    <tr>\n",
              "      <th>1</th>\n",
              "      <td>Apr-2013</td>\n",
              "      <td>2013-04-01</td>\n",
              "      <td>2013-04-01</td>\n",
              "      <td>00:00:00</td>\n",
              "    </tr>\n",
              "    <tr>\n",
              "      <th>2</th>\n",
              "      <td>Jun-2014</td>\n",
              "      <td>2014-06-01</td>\n",
              "      <td>2014-06-01</td>\n",
              "      <td>00:00:00</td>\n",
              "    </tr>\n",
              "    <tr>\n",
              "      <th>3</th>\n",
              "      <td>Jan-2015</td>\n",
              "      <td>2015-01-01</td>\n",
              "      <td>2015-01-01</td>\n",
              "      <td>00:00:00</td>\n",
              "    </tr>\n",
              "  </tbody>\n",
              "</table>\n",
              "</div>\n",
              "      <button class=\"colab-df-convert\" onclick=\"convertToInteractive('df-9c24064a-7ca8-4c9b-bdd8-f6bedc84bf18')\"\n",
              "              title=\"Convert this dataframe to an interactive table.\"\n",
              "              style=\"display:none;\">\n",
              "        \n",
              "  <svg xmlns=\"http://www.w3.org/2000/svg\" height=\"24px\"viewBox=\"0 0 24 24\"\n",
              "       width=\"24px\">\n",
              "    <path d=\"M0 0h24v24H0V0z\" fill=\"none\"/>\n",
              "    <path d=\"M18.56 5.44l.94 2.06.94-2.06 2.06-.94-2.06-.94-.94-2.06-.94 2.06-2.06.94zm-11 1L8.5 8.5l.94-2.06 2.06-.94-2.06-.94L8.5 2.5l-.94 2.06-2.06.94zm10 10l.94 2.06.94-2.06 2.06-.94-2.06-.94-.94-2.06-.94 2.06-2.06.94z\"/><path d=\"M17.41 7.96l-1.37-1.37c-.4-.4-.92-.59-1.43-.59-.52 0-1.04.2-1.43.59L10.3 9.45l-7.72 7.72c-.78.78-.78 2.05 0 2.83L4 21.41c.39.39.9.59 1.41.59.51 0 1.02-.2 1.41-.59l7.78-7.78 2.81-2.81c.8-.78.8-2.07 0-2.86zM5.41 20L4 18.59l7.72-7.72 1.47 1.35L5.41 20z\"/>\n",
              "  </svg>\n",
              "      </button>\n",
              "      \n",
              "  <style>\n",
              "    .colab-df-container {\n",
              "      display:flex;\n",
              "      flex-wrap:wrap;\n",
              "      gap: 12px;\n",
              "    }\n",
              "\n",
              "    .colab-df-convert {\n",
              "      background-color: #E8F0FE;\n",
              "      border: none;\n",
              "      border-radius: 50%;\n",
              "      cursor: pointer;\n",
              "      display: none;\n",
              "      fill: #1967D2;\n",
              "      height: 32px;\n",
              "      padding: 0 0 0 0;\n",
              "      width: 32px;\n",
              "    }\n",
              "\n",
              "    .colab-df-convert:hover {\n",
              "      background-color: #E2EBFA;\n",
              "      box-shadow: 0px 1px 2px rgba(60, 64, 67, 0.3), 0px 1px 3px 1px rgba(60, 64, 67, 0.15);\n",
              "      fill: #174EA6;\n",
              "    }\n",
              "\n",
              "    [theme=dark] .colab-df-convert {\n",
              "      background-color: #3B4455;\n",
              "      fill: #D2E3FC;\n",
              "    }\n",
              "\n",
              "    [theme=dark] .colab-df-convert:hover {\n",
              "      background-color: #434B5C;\n",
              "      box-shadow: 0px 1px 3px 1px rgba(0, 0, 0, 0.15);\n",
              "      filter: drop-shadow(0px 1px 2px rgba(0, 0, 0, 0.3));\n",
              "      fill: #FFFFFF;\n",
              "    }\n",
              "  </style>\n",
              "\n",
              "      <script>\n",
              "        const buttonEl =\n",
              "          document.querySelector('#df-9c24064a-7ca8-4c9b-bdd8-f6bedc84bf18 button.colab-df-convert');\n",
              "        buttonEl.style.display =\n",
              "          google.colab.kernel.accessAllowed ? 'block' : 'none';\n",
              "\n",
              "        async function convertToInteractive(key) {\n",
              "          const element = document.querySelector('#df-9c24064a-7ca8-4c9b-bdd8-f6bedc84bf18');\n",
              "          const dataTable =\n",
              "            await google.colab.kernel.invokeFunction('convertToInteractive',\n",
              "                                                     [key], {});\n",
              "          if (!dataTable) return;\n",
              "\n",
              "          const docLinkHtml = 'Like what you see? Visit the ' +\n",
              "            '<a target=\"_blank\" href=https://colab.research.google.com/notebooks/data_table.ipynb>data table notebook</a>'\n",
              "            + ' to learn more about interactive tables.';\n",
              "          element.innerHTML = '';\n",
              "          dataTable['output_type'] = 'display_data';\n",
              "          await google.colab.output.renderOutput(dataTable, element);\n",
              "          const docLink = document.createElement('div');\n",
              "          docLink.innerHTML = docLinkHtml;\n",
              "          element.appendChild(docLink);\n",
              "        }\n",
              "      </script>\n",
              "    </div>\n",
              "  </div>\n",
              "  "
            ]
          },
          "metadata": {},
          "execution_count": 49
        }
      ]
    },
    {
      "cell_type": "code",
      "source": [
        "#달과 연도 표시\n",
        "import numpy as np\n",
        "import pandas as pd\n",
        "rng_ = pd.date_range('2019-03-05', periods=20, freq='M')\n",
        "df = pd.DataFrame({'date': rng_})\n",
        "df.head()\n",
        "df['year'] = df['date'].dt.year\n",
        "df.head()\n",
        "df['month'] = df['date'].dt.month\n",
        "df.head()\n",
        "df['day'] = df['date'].dt.day\n",
        "df.head()\n",
        "df['quarter'] = df['date'].dt.quarter\n",
        "df.head()"
      ],
      "metadata": {
        "id": "cROzRT5w0yYT"
      },
      "execution_count": null,
      "outputs": []
    },
    {
      "cell_type": "code",
      "source": [
        "np.where(df['quarter'].isin([1,2]), \"1학기\", \"2학기\") "
      ],
      "metadata": {
        "id": "q2KIAk6W1Vkw"
      },
      "execution_count": null,
      "outputs": []
    },
    {
      "cell_type": "code",
      "source": [
        "df['semester'] = np.where(df['quarter'].isin([1,2]), 1, 2)  #np의 if 기능능\n",
        "df.head()"
      ],
      "metadata": {
        "id": "j4JY5elJhA8G"
      },
      "execution_count": null,
      "outputs": []
    },
    {
      "cell_type": "code",
      "source": [
        "#day week표현\n",
        "import numpy as np\n",
        "import pandas as pd\n",
        "rng_ = pd.date_range('2019-03-05', periods=20, freq='D')\n",
        "df = pd.DataFrame({'date': rng_})\n",
        "df.head()\n",
        "df['day_mo'] = df['date'].dt.day\n",
        "df.head()\n",
        "\n",
        "df['day_week'] = df['date'].dt.dayofweek#월요일 0부터 시작.\n",
        "df\n",
        "df['day_week'].unique()"
      ],
      "metadata": {
        "colab": {
          "base_uri": "https://localhost:8080/"
        },
        "id": "QQRaWVkah0JJ",
        "outputId": "538e7377-77a7-4e92-c07a-4bd9a426fec4"
      },
      "execution_count": null,
      "outputs": [
        {
          "output_type": "execute_result",
          "data": {
            "text/plain": [
              "array([1, 2, 3, 4, 5, 6, 0])"
            ]
          },
          "metadata": {},
          "execution_count": 62
        }
      ]
    },
    {
      "cell_type": "code",
      "source": [
        "df['week'] = df['date'].dt.week\n",
        "df.head()"
      ],
      "metadata": {
        "id": "Jqa27SwV2sUI"
      },
      "execution_count": null,
      "outputs": []
    },
    {
      "cell_type": "code",
      "source": [
        "#datetime에서 time 추출\n",
        "import numpy as np\n",
        "import pandas as pd\n",
        "\n",
        "rng_ = pd.date_range('2019-03-05', periods=20, freq='1h15min10s')\n",
        "df = pd.DataFrame({'date': rng_})\n",
        "df.head()\n",
        "df['hour'] = df['date'].dt.hour\n",
        "df['min'] = df['date'].dt.minute\n",
        "df['sec'] = df['date'].dt.second\n",
        "df.head()\n",
        "df.info()"
      ],
      "metadata": {
        "id": "G4EsB63LiP8u"
      },
      "execution_count": null,
      "outputs": []
    },
    {
      "cell_type": "code",
      "source": [
        "df[['h','m','s']] = pd.DataFrame(\n",
        "    [   (x.hour, x.minute, x.second)    for x in df['date']]#한개씩..\n",
        ")\n",
        "df.head()\n",
        "#to_datetime()를 사용하면 object에서 datetime으로 변환\n",
        "df['is_morning'] = np.where( (df['hour'] < 12) & (df['hour'] > 6), \n",
        "                            1, 0 )\n",
        "df.head()\n"
      ],
      "metadata": {
        "id": "9gpg0Vsq4HmF"
      },
      "execution_count": null,
      "outputs": []
    },
    {
      "cell_type": "code",
      "source": [
        "#datetime 변수간 측정된 기간 표현\n",
        "import datetime\n",
        "import numpy as np\n",
        "import pandas as pd\n",
        "\n",
        "rng_hr = pd.date_range('2019-03-05', periods=20, freq='H')\n",
        "rng_month = pd.date_range('2019-03-05', periods=20, freq='M')\n",
        "df = pd.DataFrame({'date1': rng_hr, 'date2': rng_month})\n",
        "df.head()\n",
        "df['elapsed_days'] = (df['date2'] - df['date1']).dt.days\n",
        "df.head(2)"
      ],
      "metadata": {
        "colab": {
          "base_uri": "https://localhost:8080/",
          "height": 112
        },
        "id": "_vkpe1Wj5TYU",
        "outputId": "69ef756d-4d3c-4a75-8666-bc45aa3ced60"
      },
      "execution_count": null,
      "outputs": [
        {
          "output_type": "execute_result",
          "data": {
            "text/plain": [
              "                date1      date2  elapsed_days\n",
              "0 2019-03-05 00:00:00 2019-03-31            26\n",
              "1 2019-03-05 01:00:00 2019-04-30            55"
            ],
            "text/html": [
              "\n",
              "  <div id=\"df-035a5dae-edb0-4749-978a-8eb866312233\">\n",
              "    <div class=\"colab-df-container\">\n",
              "      <div>\n",
              "<style scoped>\n",
              "    .dataframe tbody tr th:only-of-type {\n",
              "        vertical-align: middle;\n",
              "    }\n",
              "\n",
              "    .dataframe tbody tr th {\n",
              "        vertical-align: top;\n",
              "    }\n",
              "\n",
              "    .dataframe thead th {\n",
              "        text-align: right;\n",
              "    }\n",
              "</style>\n",
              "<table border=\"1\" class=\"dataframe\">\n",
              "  <thead>\n",
              "    <tr style=\"text-align: right;\">\n",
              "      <th></th>\n",
              "      <th>date1</th>\n",
              "      <th>date2</th>\n",
              "      <th>elapsed_days</th>\n",
              "    </tr>\n",
              "  </thead>\n",
              "  <tbody>\n",
              "    <tr>\n",
              "      <th>0</th>\n",
              "      <td>2019-03-05 00:00:00</td>\n",
              "      <td>2019-03-31</td>\n",
              "      <td>26</td>\n",
              "    </tr>\n",
              "    <tr>\n",
              "      <th>1</th>\n",
              "      <td>2019-03-05 01:00:00</td>\n",
              "      <td>2019-04-30</td>\n",
              "      <td>55</td>\n",
              "    </tr>\n",
              "  </tbody>\n",
              "</table>\n",
              "</div>\n",
              "      <button class=\"colab-df-convert\" onclick=\"convertToInteractive('df-035a5dae-edb0-4749-978a-8eb866312233')\"\n",
              "              title=\"Convert this dataframe to an interactive table.\"\n",
              "              style=\"display:none;\">\n",
              "        \n",
              "  <svg xmlns=\"http://www.w3.org/2000/svg\" height=\"24px\"viewBox=\"0 0 24 24\"\n",
              "       width=\"24px\">\n",
              "    <path d=\"M0 0h24v24H0V0z\" fill=\"none\"/>\n",
              "    <path d=\"M18.56 5.44l.94 2.06.94-2.06 2.06-.94-2.06-.94-.94-2.06-.94 2.06-2.06.94zm-11 1L8.5 8.5l.94-2.06 2.06-.94-2.06-.94L8.5 2.5l-.94 2.06-2.06.94zm10 10l.94 2.06.94-2.06 2.06-.94-2.06-.94-.94-2.06-.94 2.06-2.06.94z\"/><path d=\"M17.41 7.96l-1.37-1.37c-.4-.4-.92-.59-1.43-.59-.52 0-1.04.2-1.43.59L10.3 9.45l-7.72 7.72c-.78.78-.78 2.05 0 2.83L4 21.41c.39.39.9.59 1.41.59.51 0 1.02-.2 1.41-.59l7.78-7.78 2.81-2.81c.8-.78.8-2.07 0-2.86zM5.41 20L4 18.59l7.72-7.72 1.47 1.35L5.41 20z\"/>\n",
              "  </svg>\n",
              "      </button>\n",
              "      \n",
              "  <style>\n",
              "    .colab-df-container {\n",
              "      display:flex;\n",
              "      flex-wrap:wrap;\n",
              "      gap: 12px;\n",
              "    }\n",
              "\n",
              "    .colab-df-convert {\n",
              "      background-color: #E8F0FE;\n",
              "      border: none;\n",
              "      border-radius: 50%;\n",
              "      cursor: pointer;\n",
              "      display: none;\n",
              "      fill: #1967D2;\n",
              "      height: 32px;\n",
              "      padding: 0 0 0 0;\n",
              "      width: 32px;\n",
              "    }\n",
              "\n",
              "    .colab-df-convert:hover {\n",
              "      background-color: #E2EBFA;\n",
              "      box-shadow: 0px 1px 2px rgba(60, 64, 67, 0.3), 0px 1px 3px 1px rgba(60, 64, 67, 0.15);\n",
              "      fill: #174EA6;\n",
              "    }\n",
              "\n",
              "    [theme=dark] .colab-df-convert {\n",
              "      background-color: #3B4455;\n",
              "      fill: #D2E3FC;\n",
              "    }\n",
              "\n",
              "    [theme=dark] .colab-df-convert:hover {\n",
              "      background-color: #434B5C;\n",
              "      box-shadow: 0px 1px 3px 1px rgba(0, 0, 0, 0.15);\n",
              "      filter: drop-shadow(0px 1px 2px rgba(0, 0, 0, 0.3));\n",
              "      fill: #FFFFFF;\n",
              "    }\n",
              "  </style>\n",
              "\n",
              "      <script>\n",
              "        const buttonEl =\n",
              "          document.querySelector('#df-035a5dae-edb0-4749-978a-8eb866312233 button.colab-df-convert');\n",
              "        buttonEl.style.display =\n",
              "          google.colab.kernel.accessAllowed ? 'block' : 'none';\n",
              "\n",
              "        async function convertToInteractive(key) {\n",
              "          const element = document.querySelector('#df-035a5dae-edb0-4749-978a-8eb866312233');\n",
              "          const dataTable =\n",
              "            await google.colab.kernel.invokeFunction('convertToInteractive',\n",
              "                                                     [key], {});\n",
              "          if (!dataTable) return;\n",
              "\n",
              "          const docLinkHtml = 'Like what you see? Visit the ' +\n",
              "            '<a target=\"_blank\" href=https://colab.research.google.com/notebooks/data_table.ipynb>data table notebook</a>'\n",
              "            + ' to learn more about interactive tables.';\n",
              "          element.innerHTML = '';\n",
              "          dataTable['output_type'] = 'display_data';\n",
              "          await google.colab.output.renderOutput(dataTable, element);\n",
              "          const docLink = document.createElement('div');\n",
              "          docLink.innerHTML = docLinkHtml;\n",
              "          element.appendChild(docLink);\n",
              "        }\n",
              "      </script>\n",
              "    </div>\n",
              "  </div>\n",
              "  "
            ]
          },
          "metadata": {},
          "execution_count": 70
        }
      ]
    },
    {
      "cell_type": "code",
      "source": [
        "df['months_passed'] = ((df['date2'] - df['date1']) / np.timedelta64(1, 'M')) #시간 간격, 월\n",
        "df['months_passed'] = np.round(df['months_passed'],0) #반올림림\n",
        "df.head()\n",
        "\n",
        "df['diff_seconds'] = (df['date2'] - df['date1'])/np.timedelta64(1,'s')  #시간 간격, 초\n",
        "df['diff_minutes'] = (df['date2'] - df['date1'])/np.timedelta64(1,'m')  #시간 간격, 분\n",
        "df.head()"
      ],
      "metadata": {
        "id": "UPScEko43u-L"
      },
      "execution_count": null,
      "outputs": []
    },
    {
      "cell_type": "code",
      "source": [
        "df['to_today'] = (datetime.datetime.today() - df['date1'])  #오늘까지의 시간\n",
        "df.head()"
      ],
      "metadata": {
        "id": "mmv1_EZc56Bu"
      },
      "execution_count": null,
      "outputs": []
    }
  ]
}